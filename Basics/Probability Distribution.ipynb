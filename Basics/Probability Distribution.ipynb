{
 "cells": [
  {
   "cell_type": "code",
   "execution_count": 1,
   "id": "b04c89da",
   "metadata": {},
   "outputs": [],
   "source": [
    "import numpy as np"
   ]
  },
  {
   "cell_type": "code",
   "execution_count": 2,
   "id": "1411d95d",
   "metadata": {},
   "outputs": [],
   "source": [
    "import matplotlib.pyplot as pt"
   ]
  },
  {
   "cell_type": "code",
   "execution_count": 3,
   "id": "8fe09ef9",
   "metadata": {},
   "outputs": [],
   "source": [
    "import seaborn as sbn"
   ]
  },
  {
   "cell_type": "markdown",
   "id": "71403d44",
   "metadata": {},
   "source": [
    "## Binomial Distribution"
   ]
  },
  {
   "cell_type": "code",
   "execution_count": 10,
   "id": "d59025eb",
   "metadata": {},
   "outputs": [
    {
     "data": {
      "text/plain": [
       "2"
      ]
     },
     "execution_count": 10,
     "metadata": {},
     "output_type": "execute_result"
    }
   ],
   "source": [
    "np.random.binomial(2, 0.166)"
   ]
  },
  {
   "cell_type": "code",
   "execution_count": 11,
   "id": "05cdc4eb",
   "metadata": {},
   "outputs": [
    {
     "data": {
      "text/plain": [
       "array([0, 2, 0, 0, 0, 0, 0, 0, 0, 1])"
      ]
     },
     "execution_count": 11,
     "metadata": {},
     "output_type": "execute_result"
    }
   ],
   "source": [
    "np.random.binomial(2, 0.166, 10)"
   ]
  },
  {
   "cell_type": "code",
   "execution_count": 12,
   "id": "8e0afb44",
   "metadata": {},
   "outputs": [
    {
     "data": {
      "text/plain": [
       "array([1, 0, 1, 0, 0, 1, 1, 1, 0, 0, 0, 0, 0, 0, 1, 0, 0, 1, 0, 0, 0, 0,\n",
       "       0, 0, 0, 0, 1, 0, 0, 0, 0, 0, 1, 1, 0, 1, 1, 0, 1, 0, 0, 0, 0, 0,\n",
       "       0, 0, 1, 0, 1, 0, 1, 1, 0, 2, 0, 0, 0, 0, 1, 0, 0, 0, 0, 1, 0, 0,\n",
       "       0, 0, 0, 0, 0, 0, 1, 1, 0, 0, 1, 0, 0, 0, 1, 1, 2, 0, 1, 0, 0, 2,\n",
       "       0, 0, 0, 0, 1, 1, 0, 0, 2, 1, 1, 0])"
      ]
     },
     "execution_count": 12,
     "metadata": {},
     "output_type": "execute_result"
    }
   ],
   "source": [
    "np.random.binomial(2, 0.166, 100)"
   ]
  },
  {
   "cell_type": "code",
   "execution_count": 27,
   "id": "8dc6d75a",
   "metadata": {},
   "outputs": [],
   "source": [
    "bd = np.random.binomial(6, 0.166, 100)"
   ]
  },
  {
   "cell_type": "code",
   "execution_count": 28,
   "id": "bf897db3",
   "metadata": {},
   "outputs": [
    {
     "data": {
      "text/plain": [
       "array([2, 1, 1, 1, 1, 1, 1, 2, 1, 0, 0, 1, 0, 1, 0, 0, 1, 1, 0, 1, 2, 1,\n",
       "       0, 1, 1, 0, 2, 2, 1, 1, 2, 0, 3, 1, 1, 0, 2, 3, 2, 0, 2, 0, 0, 0,\n",
       "       1, 0, 1, 2, 0, 0, 4, 1, 1, 0, 1, 2, 3, 0, 2, 0, 0, 1, 2, 0, 0, 1,\n",
       "       0, 3, 1, 1, 0, 1, 2, 2, 1, 0, 2, 3, 3, 0, 0, 1, 3, 0, 1, 3, 3, 0,\n",
       "       1, 1, 1, 0, 1, 0, 0, 2, 1, 2, 0, 0])"
      ]
     },
     "execution_count": 28,
     "metadata": {},
     "output_type": "execute_result"
    }
   ],
   "source": [
    "bd"
   ]
  },
  {
   "cell_type": "code",
   "execution_count": 29,
   "id": "836779c0",
   "metadata": {},
   "outputs": [
    {
     "data": {
      "image/png": "[encoded data removed]",
      "text/plain": [
       "<Figure size 432x288 with 1 Axes>"
      ]
     },
     "metadata": {
      "needs_background": "light"
     },
     "output_type": "display_data"
    }
   ],
   "source": [
    "sbn.countplot(x=bd)\n",
    "pt.show()"
   ]
  },
  {
   "cell_type": "code",
   "execution_count": 30,
   "id": "920f7311",
   "metadata": {},
   "outputs": [
    {
     "data": {
      "text/plain": [
       "array([1, 1, 1, 0, 0, 1, 1, 1, 1, 0, 1, 0, 1, 1, 0, 1, 1, 1, 0, 1, 0, 0,\n",
       "       1, 1, 1, 0, 1, 0, 1, 0, 0, 1, 0, 0, 0, 0, 0, 0, 1, 1, 0, 0, 0, 1,\n",
       "       0, 1, 1, 0, 1, 0, 0, 1, 1, 1, 1, 1, 0, 0, 0, 0, 1, 1, 0, 0, 1, 1,\n",
       "       1, 0, 1, 0, 1, 0, 1, 0, 0, 1, 1, 0, 0, 1, 1, 0, 0, 1, 0, 1, 0, 1,\n",
       "       0, 0, 0, 0, 1, 0, 0, 0, 1, 1, 1, 0])"
      ]
     },
     "execution_count": 30,
     "metadata": {},
     "output_type": "execute_result"
    }
   ],
   "source": [
    "np.random.binomial(1, 0.5, 100)"
   ]
  },
  {
   "cell_type": "code",
   "execution_count": 36,
   "id": "23ed5288",
   "metadata": {},
   "outputs": [],
   "source": [
    "xyz = np.random.binomial(1, 0.5, 100)"
   ]
  },
  {
   "cell_type": "code",
   "execution_count": 37,
   "id": "f87ce835",
   "metadata": {},
   "outputs": [
    {
     "data": {
      "text/plain": [
       "array([0, 1, 1, 0, 1, 0, 0, 1, 0, 1, 1, 0, 1, 1, 1, 1, 0, 0, 0, 1, 0, 1,\n",
       "       0, 0, 0, 0, 1, 0, 0, 1, 0, 1, 0, 0, 0, 1, 0, 1, 1, 1, 0, 0, 0, 1,\n",
       "       0, 0, 0, 1, 0, 1, 1, 1, 1, 0, 0, 0, 1, 0, 0, 0, 1, 0, 1, 0, 0, 1,\n",
       "       0, 1, 1, 0, 0, 1, 1, 1, 0, 1, 0, 0, 0, 0, 1, 0, 1, 0, 0, 1, 0, 1,\n",
       "       1, 1, 0, 0, 1, 1, 0, 0, 1, 0, 1, 0])"
      ]
     },
     "execution_count": 37,
     "metadata": {},
     "output_type": "execute_result"
    }
   ],
   "source": [
    "xyz"
   ]
  },
  {
   "cell_type": "code",
   "execution_count": 38,
   "id": "4529b601",
   "metadata": {},
   "outputs": [
    {
     "data": {
      "image/png": "[encoded data removed]",
      "text/plain": [
       "<Figure size 432x288 with 1 Axes>"
      ]
     },
     "metadata": {
      "needs_background": "light"
     },
     "output_type": "display_data"
    }
   ],
   "source": [
    "sbn.countplot(x=xyz)\n",
    "pt.show()"
   ]
  },
  {
   "cell_type": "markdown",
   "id": "1fbb3ed5",
   "metadata": {},
   "source": [
    "## poisson distribution"
   ]
  },
  {
   "cell_type": "code",
   "execution_count": 45,
   "id": "7bd10f44",
   "metadata": {},
   "outputs": [
    {
     "data": {
      "text/plain": [
       "3"
      ]
     },
     "execution_count": 45,
     "metadata": {},
     "output_type": "execute_result"
    }
   ],
   "source": [
    "np.random.poisson(4.5)"
   ]
  },
  {
   "cell_type": "code",
   "execution_count": 46,
   "id": "07dbcb71",
   "metadata": {},
   "outputs": [
    {
     "data": {
      "text/plain": [
       "array([8, 5, 2, 6, 5, 3, 6, 6, 6, 4])"
      ]
     },
     "execution_count": 46,
     "metadata": {},
     "output_type": "execute_result"
    }
   ],
   "source": [
    "np.random.poisson(4.5, 10)"
   ]
  },
  {
   "cell_type": "code",
   "execution_count": 54,
   "id": "5f4d242c",
   "metadata": {},
   "outputs": [],
   "source": [
    "poi = np.random.poisson(4.5,100)"
   ]
  },
  {
   "cell_type": "code",
   "execution_count": 55,
   "id": "1cabf28e",
   "metadata": {},
   "outputs": [
    {
     "data": {
      "text/plain": [
       "array([ 4,  6,  4,  7,  3,  4,  4,  9,  6,  5,  6,  6,  4,  4,  2,  3,  6,\n",
       "        5,  9,  4,  3,  4,  7,  5, 11,  4,  3,  7,  3,  2,  9,  4,  4,  7,\n",
       "        3,  6,  3,  4,  7,  8,  2,  5,  2, 12,  6,  4,  3,  1,  4,  2,  7,\n",
       "        3,  6,  3,  5,  2,  8,  4,  6,  6,  1,  7,  2,  7,  3,  7,  4,  0,\n",
       "        3,  3,  6,  8,  2,  3,  8,  4,  7,  3,  1,  3,  3,  6, 10,  2,  1,\n",
       "        3,  3,  6,  3,  5,  9,  3,  4,  2,  6,  5,  4,  1,  6,  8])"
      ]
     },
     "execution_count": 55,
     "metadata": {},
     "output_type": "execute_result"
    }
   ],
   "source": [
    "poi"
   ]
  },
  {
   "cell_type": "code",
   "execution_count": 56,
   "id": "a2836137",
   "metadata": {},
   "outputs": [
    {
     "data": {
      "image/png": "[encoded data removed]",
      "text/plain": [
       "<Figure size 432x288 with 1 Axes>"
      ]
     },
     "metadata": {
      "needs_background": "light"
     },
     "output_type": "display_data"
    }
   ],
   "source": [
    "sbn.countplot(x=poi)\n",
    "pt.show()"
   ]
  },
  {
   "cell_type": "code",
   "execution_count": 57,
   "id": "70c18d3c",
   "metadata": {},
   "outputs": [],
   "source": [
    "poi1 = np.random.poisson(4.5,1000)"
   ]
  },
  {
   "cell_type": "code",
   "execution_count": 58,
   "id": "5992d323",
   "metadata": {},
   "outputs": [
    {
     "data": {
      "text/plain": [
       "array([ 8,  2,  6,  9,  1,  4,  4,  0, 10,  7,  3,  1,  3,  1,  4,  6,  4,\n",
       "        3,  3,  5,  7,  3,  2,  6,  3,  5,  6,  4,  8,  4,  1,  7,  2,  2,\n",
       "        3, 11,  2,  5,  5,  0,  2,  5,  8,  4,  5,  9,  6,  4,  4,  2,  3,\n",
       "        6,  3,  5,  8,  1,  6,  3,  3,  3,  5,  1,  5,  4, 10,  4,  6,  6,\n",
       "        3,  0,  4,  5,  5,  5,  5,  3,  4,  3,  7,  3,  6,  3,  4,  3,  2,\n",
       "        8,  6,  6,  6,  5,  3,  5,  3,  3,  5,  8,  5,  4,  1,  4,  5,  7,\n",
       "        8,  3,  4,  4,  4,  4,  3,  3,  2, 12,  4, 11,  4,  4,  3,  5,  3,\n",
       "        2,  2,  7,  4,  6,  5,  3,  3,  4,  5,  4,  4,  5,  4,  3,  8,  4,\n",
       "        3,  0,  2,  2,  1,  4,  4,  5,  3,  5,  8,  6,  5,  5,  1,  6,  5,\n",
       "        2,  5,  0,  6,  6,  6,  4,  7,  7,  4,  3,  7,  6,  8,  5,  2,  4,\n",
       "        3,  5,  4,  3,  3,  3,  4,  7,  3,  4,  5,  4,  5,  4,  6,  3,  4,\n",
       "        1,  2,  6,  5,  1,  4,  2,  6,  7,  4,  6,  2,  7,  4,  2,  5,  1,\n",
       "        2,  3,  4,  5,  3,  3,  7,  4,  7,  2,  4,  6,  5,  5,  2,  2,  3,\n",
       "        4,  2,  5,  8,  5,  9,  4,  3,  6,  2,  3,  4,  2,  3,  0,  7,  6,\n",
       "        4,  2,  3,  7,  2,  2,  3,  6,  5,  5,  7,  4,  5,  1,  9,  3,  7,\n",
       "        3,  3,  4,  3,  2,  6,  2,  9,  8,  3,  2,  2,  8,  3,  4,  4,  5,\n",
       "        3,  4,  3,  3,  4,  4,  2,  5,  3,  4,  6,  7,  4,  7,  3,  6,  1,\n",
       "        3,  5,  4, 10,  6,  7,  3,  5,  6,  6,  6,  7,  8,  5,  6,  2,  4,\n",
       "        5,  3,  3,  3,  3,  3,  3,  7,  4,  1,  2,  4,  6,  3,  5,  2,  4,\n",
       "        5,  5,  5,  8,  6,  8,  4,  9,  4,  2,  7,  7,  8,  6,  7,  4,  5,\n",
       "        7,  5,  3,  2,  5,  5,  8,  4,  5,  1,  4,  2,  2,  2,  5,  3,  6,\n",
       "        3,  9,  6,  2,  6,  6,  7,  4,  6, 10,  3,  3,  2,  1, 10,  5,  2,\n",
       "        3,  4,  4,  6,  6,  4,  3,  4,  5,  7,  9,  5,  0,  4,  2,  2,  8,\n",
       "        3,  1,  5,  1,  7,  2,  4,  4,  7,  2,  1,  6,  4,  6,  3,  4,  3,\n",
       "        6,  3,  6,  5,  5,  6,  6,  3,  8,  7,  8,  5,  4,  4,  3,  2,  2,\n",
       "        2,  5,  0,  2,  6,  6,  1,  5,  3,  4,  5,  5,  4,  4,  2,  4,  5,\n",
       "        7,  1,  2,  6,  1,  6,  3,  4,  5,  3,  6,  4,  2,  8,  6,  2,  3,\n",
       "        7,  1,  7,  6,  9,  5,  6,  5,  5,  3,  2,  7,  5,  1,  1,  4,  5,\n",
       "        4,  5,  0,  4,  2,  2,  2,  4,  4,  5,  6,  5,  5,  5,  3,  3,  7,\n",
       "        5,  5,  4,  4,  3,  6,  1,  5,  3,  2,  3,  5,  3,  2,  7,  3,  5,\n",
       "        3,  4,  2,  4,  4,  6,  3,  4,  5,  6,  5, 10,  1,  3,  6,  2,  4,\n",
       "        9,  6,  5,  7,  3,  5,  5,  4,  6,  2,  6,  4,  3,  0,  5,  4,  6,\n",
       "        4,  9,  5,  5,  2,  5,  1, 10,  6,  5,  3,  4,  7,  3,  1,  1,  7,\n",
       "        4,  4,  5,  1,  8,  8,  4,  3,  3,  8,  1, 10,  9,  5,  6,  9,  9,\n",
       "        5,  5,  2,  4,  2,  1,  4,  4,  2,  6,  4,  7,  6,  6,  5,  5,  6,\n",
       "        6,  2,  3,  3,  4,  5,  7,  7,  6,  3,  3,  3,  7,  4,  4,  2,  2,\n",
       "        7,  2,  4,  5,  5,  4,  4,  4,  5,  8,  2,  6,  6,  1,  3,  4,  4,\n",
       "        9,  1,  3,  5,  7,  7,  3,  5,  2,  5,  7,  1,  4,  5,  9,  4,  4,\n",
       "        5,  5,  4,  6,  1,  7,  2,  1,  4,  4,  2,  7,  6,  6,  0,  6,  3,\n",
       "        3,  1,  7,  5,  5,  3,  5,  2,  8,  6,  4,  8,  2,  9,  1,  6,  5,\n",
       "        8,  9,  4,  5,  5,  5,  4,  6,  3,  4,  2,  6,  1,  2,  4, 10,  6,\n",
       "        5,  5,  7,  5,  6,  8,  4,  6,  2,  4,  7,  6,  4,  2,  4,  7,  1,\n",
       "        7,  4,  5,  4,  4,  9,  7,  6,  5,  2,  2,  6,  8,  3,  6,  1,  4,\n",
       "        1,  3,  6,  6,  3,  3,  5,  4,  4,  6,  4,  4,  6,  3,  6,  6,  4,\n",
       "        3,  4,  4,  7,  5,  4,  4,  3,  9,  2,  4,  2,  5,  3,  5,  8,  5,\n",
       "        4,  3,  4,  6,  8,  7,  5,  4,  5,  1,  4,  4,  6,  2,  4,  2,  4,\n",
       "        5,  3,  3,  2,  7,  4,  5,  3,  4,  3,  1,  3,  3,  5,  5,  1,  1,\n",
       "        6,  2,  3,  4,  5,  8,  4,  5,  6,  3,  1,  3,  5,  2,  6,  4,  5,\n",
       "        2,  2,  5,  2,  5,  4,  4,  4,  6,  5,  1,  5,  3,  4,  3,  6,  7,\n",
       "        5,  5,  2,  5,  6,  4,  5,  2,  3,  2,  4,  7,  3,  4,  5,  4,  5,\n",
       "        2,  2,  6,  5,  9,  5,  5,  2,  4,  3,  6,  2,  3,  5,  8,  3,  3,\n",
       "        1,  4,  7,  4,  6,  7,  2,  6,  4,  6,  2,  5,  1,  7,  6,  5,  4,\n",
       "        3,  4,  8,  4,  2,  2,  6,  2,  5,  6,  7,  3,  2,  3,  9,  7,  5,\n",
       "        8,  5,  8,  3,  6,  4,  3,  3, 12,  4,  3,  1,  8,  7,  6,  3,  7,\n",
       "        3,  2,  5,  5,  7,  2,  1,  3,  4,  4,  2,  6,  9,  3,  6,  4,  4,\n",
       "        1, 10,  5,  6,  5,  2,  7,  3,  7,  3,  5,  3,  3,  9,  2,  5,  3,\n",
       "        5,  6,  5,  2,  5,  4,  5,  3,  5,  2,  1,  7,  3,  7,  4,  7,  7,\n",
       "        8,  3,  4,  4, 10,  4,  3,  3,  5,  5,  5,  3,  2,  5,  5,  2,  9,\n",
       "        5,  7,  9,  5,  3,  5,  3,  5,  7,  4,  0,  4,  4,  4])"
      ]
     },
     "execution_count": 58,
     "metadata": {},
     "output_type": "execute_result"
    }
   ],
   "source": [
    "poi1"
   ]
  },
  {
   "cell_type": "code",
   "execution_count": 59,
   "id": "f1fb0cda",
   "metadata": {},
   "outputs": [
    {
     "data": {
      "image/png": "[encoded data removed]",
      "text/plain": [
       "<Figure size 432x288 with 1 Axes>"
      ]
     },
     "metadata": {
      "needs_background": "light"
     },
     "output_type": "display_data"
    }
   ],
   "source": [
    "sbn.countplot(x=poi1)\n",
    "pt.show()"
   ]
  },
  {
   "cell_type": "markdown",
   "id": "d4f83ae5",
   "metadata": {},
   "source": [
    "## Normal distribution"
   ]
  },
  {
   "cell_type": "code",
   "execution_count": 65,
   "id": "bde3b523",
   "metadata": {},
   "outputs": [
    {
     "data": {
      "text/plain": [
       "98.33185347983017"
      ]
     },
     "execution_count": 65,
     "metadata": {},
     "output_type": "execute_result"
    }
   ],
   "source": [
    "np.random.normal(100,2)"
   ]
  },
  {
   "cell_type": "code",
   "execution_count": 68,
   "id": "c11edfec",
   "metadata": {},
   "outputs": [
    {
     "data": {
      "text/plain": [
       "array([100.93042595,  97.69206354, 101.12682273, 102.22001721,\n",
       "       101.48711747,  99.32113061, 100.37952306,  97.46211872,\n",
       "       102.72100238, 103.37622186])"
      ]
     },
     "execution_count": 68,
     "metadata": {},
     "output_type": "execute_result"
    }
   ],
   "source": [
    "np.random.normal(100,2,10)"
   ]
  },
  {
   "cell_type": "code",
   "execution_count": 70,
   "id": "f76ea01a",
   "metadata": {},
   "outputs": [
    {
     "data": {
      "text/plain": [
       "array([101.44,  99.99, 101.17,  99.14,  99.75, 101.86,  99.12, 101.32,\n",
       "        97.85,  95.99])"
      ]
     },
     "execution_count": 70,
     "metadata": {},
     "output_type": "execute_result"
    }
   ],
   "source": [
    "np.round((np.random.normal(100,2,10)),2)"
   ]
  },
  {
   "cell_type": "code",
   "execution_count": 82,
   "id": "da9eb2e0",
   "metadata": {},
   "outputs": [],
   "source": [
    "nd = np.round((np.random.normal(100,2,5000)),2)"
   ]
  },
  {
   "cell_type": "code",
   "execution_count": 83,
   "id": "1a8f9c78",
   "metadata": {},
   "outputs": [
    {
     "data": {
      "text/plain": [
       "array([100.35, 100.61, 100.64, ..., 100.46,  97.77,  99.77])"
      ]
     },
     "execution_count": 83,
     "metadata": {},
     "output_type": "execute_result"
    }
   ],
   "source": [
    "nd"
   ]
  },
  {
   "cell_type": "code",
   "execution_count": 84,
   "id": "27599728",
   "metadata": {},
   "outputs": [
    {
     "data": {
      "image/png": "[encoded data removed]",
      "text/plain": [
       "<Figure size 432x288 with 1 Axes>"
      ]
     },
     "metadata": {
      "needs_background": "light"
     },
     "output_type": "display_data"
    }
   ],
   "source": [
    "sbn.histplot(x=nd)\n",
    "pt.show()"
   ]
  },
  {
   "cell_type": "code",
   "execution_count": null,
   "id": "677b4e36",
   "metadata": {},
   "outputs": [],
   "source": []
  }
 ],
 "metadata": {
  "kernelspec": {
   "display_name": "Python 3 (ipykernel)",
   "language": "python",
   "name": "python3"
  },
  "language_info": {
   "codemirror_mode": {
    "name": "ipython",
    "version": 3
   },
   "file_extension": ".py",
   "mimetype": "text/x-python",
   "name": "python",
   "nbconvert_exporter": "python",
   "pygments_lexer": "ipython3",
   "version": "3.9.12"
  }
 },
 "nbformat": 4,
 "nbformat_minor": 5
}
