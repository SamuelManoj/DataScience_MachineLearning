{
 "cells": [
  {
   "cell_type": "code",
   "execution_count": 1,
   "id": "fc1ef698",
   "metadata": {},
   "outputs": [],
   "source": [
    "list = [90, 75, 85, 90, 100, 99, 60, 78, 85, 90, 50, 65]"
   ]
  },
  {
   "cell_type": "code",
   "execution_count": 2,
   "id": "07329cac",
   "metadata": {},
   "outputs": [],
   "source": [
    "import numpy as np"
   ]
  },
  {
   "cell_type": "code",
   "execution_count": 3,
   "id": "81242718",
   "metadata": {},
   "outputs": [
    {
     "data": {
      "text/plain": [
       "80.58333333333333"
      ]
     },
     "execution_count": 3,
     "metadata": {},
     "output_type": "execute_result"
    }
   ],
   "source": [
    "np.mean(list)"
   ]
  },
  {
   "cell_type": "code",
   "execution_count": 4,
   "id": "1b83f200",
   "metadata": {},
   "outputs": [
    {
     "data": {
      "text/plain": [
       "85.0"
      ]
     },
     "execution_count": 4,
     "metadata": {},
     "output_type": "execute_result"
    }
   ],
   "source": [
    "np.median(list)"
   ]
  },
  {
   "cell_type": "code",
   "execution_count": 5,
   "id": "85d46adc",
   "metadata": {},
   "outputs": [],
   "source": [
    "total = np.mean(list)"
   ]
  },
  {
   "cell_type": "code",
   "execution_count": 7,
   "id": "fd987f15",
   "metadata": {},
   "outputs": [
    {
     "data": {
      "text/plain": [
       "80.58333333333333"
      ]
     },
     "execution_count": 7,
     "metadata": {},
     "output_type": "execute_result"
    }
   ],
   "source": [
    "total"
   ]
  },
  {
   "cell_type": "code",
   "execution_count": 10,
   "id": "50396863",
   "metadata": {},
   "outputs": [
    {
     "data": {
      "text/plain": [
       "80.58"
      ]
     },
     "execution_count": 10,
     "metadata": {},
     "output_type": "execute_result"
    }
   ],
   "source": [
    "round(total,2)"
   ]
  },
  {
   "cell_type": "code",
   "execution_count": 11,
   "id": "45df9f9b",
   "metadata": {},
   "outputs": [],
   "source": [
    "import matplotlib.pyplot as plt"
   ]
  },
  {
   "cell_type": "code",
   "execution_count": 12,
   "id": "16fcca06",
   "metadata": {},
   "outputs": [],
   "source": [
    "import seaborn as sb"
   ]
  },
  {
   "cell_type": "code",
   "execution_count": 14,
   "id": "13206e8a",
   "metadata": {},
   "outputs": [
    {
     "data": {
      "text/plain": [
       "<AxesSubplot:ylabel='count'>"
      ]
     },
     "execution_count": 14,
     "metadata": {},
     "output_type": "execute_result"
    },
    {
     "data": {
      "image/png": "[encoded data removed]",
      "text/plain": [
       "<Figure size 432x288 with 1 Axes>"
      ]
     },
     "metadata": {
      "needs_background": "light"
     },
     "output_type": "display_data"
    }
   ],
   "source": [
    "sb.countplot(data=list)"
   ]
  },
  {
   "cell_type": "code",
   "execution_count": 15,
   "id": "58098084",
   "metadata": {},
   "outputs": [
    {
     "data": {
      "text/plain": [
       "<AxesSubplot:>"
      ]
     },
     "execution_count": 15,
     "metadata": {},
     "output_type": "execute_result"
    },
    {
     "data": {
      "image/png": "[encoded data removed]",
      "text/plain": [
       "<Figure size 432x288 with 1 Axes>"
      ]
     },
     "metadata": {
      "needs_background": "light"
     },
     "output_type": "display_data"
    }
   ],
   "source": [
    "sb.boxplot(data=list)"
   ]
  },
  {
   "cell_type": "code",
   "execution_count": 17,
   "id": "d08effd8",
   "metadata": {},
   "outputs": [
    {
     "data": {
      "text/plain": [
       "<AxesSubplot:>"
      ]
     },
     "execution_count": 17,
     "metadata": {},
     "output_type": "execute_result"
    },
    {
     "data": {
      "image/png": "[encoded data removed]",
      "text/plain": [
       "<Figure size 432x288 with 1 Axes>"
      ]
     },
     "metadata": {
      "needs_background": "light"
     },
     "output_type": "display_data"
    }
   ],
   "source": [
    "sb.lineplot(data=list)"
   ]
  },
  {
   "cell_type": "code",
   "execution_count": 19,
   "id": "3d99a2eb",
   "metadata": {},
   "outputs": [
    {
     "ename": "SyntaxError",
     "evalue": "positional argument follows keyword argument (850068940.py, line 1)",
     "output_type": "error",
     "traceback": [
      "\u001b[0;36m  Input \u001b[0;32mIn [19]\u001b[0;36m\u001b[0m\n\u001b[0;31m    sb.barplot(data=list,10)\u001b[0m\n\u001b[0m                           ^\u001b[0m\n\u001b[0;31mSyntaxError\u001b[0m\u001b[0;31m:\u001b[0m positional argument follows keyword argument\n"
     ]
    }
   ],
   "source": []
  },
  {
   "cell_type": "code",
   "execution_count": 27,
   "id": "ec0968fe",
   "metadata": {},
   "outputs": [],
   "source": [
    "list1 = np.random.rand(100)"
   ]
  },
  {
   "cell_type": "code",
   "execution_count": 28,
   "id": "fd1cd491",
   "metadata": {},
   "outputs": [
    {
     "data": {
      "text/plain": [
       "array([0.15132717, 0.86893014, 0.04567873, 0.35938137, 0.98513313,\n",
       "       0.0177179 , 0.60727261, 0.84918292, 0.84754303, 0.88676263,\n",
       "       0.77271705, 0.92575744, 0.83247125, 0.90728154, 0.52528483,\n",
       "       0.70271123, 0.55541693, 0.56698484, 0.62495287, 0.3209173 ,\n",
       "       0.82381601, 0.77497717, 0.39226797, 0.3248971 , 0.82106795,\n",
       "       0.19282689, 0.43090831, 0.10490049, 0.31559373, 0.83576408,\n",
       "       0.62215779, 0.9963661 , 0.44463222, 0.72938349, 0.01993284,\n",
       "       0.4000147 , 0.28582649, 0.4421213 , 0.99048606, 0.86444986,\n",
       "       0.13034437, 0.88406791, 0.9031306 , 0.68228889, 0.79667942,\n",
       "       0.5764379 , 0.2603363 , 0.31353249, 0.12387445, 0.88503321,\n",
       "       0.10257209, 0.19796209, 0.75745098, 0.677377  , 0.63579712,\n",
       "       0.64391605, 0.8659772 , 0.74301736, 0.61271625, 0.19307006,\n",
       "       0.76973416, 0.10840501, 0.62326591, 0.89451692, 0.52830822,\n",
       "       0.17926385, 0.3963626 , 0.51856159, 0.63799532, 0.54092247,\n",
       "       0.07217971, 0.41643697, 0.90362298, 0.76716761, 0.74919178,\n",
       "       0.31902804, 0.44373557, 0.16725512, 0.31859208, 0.24212487,\n",
       "       0.71400972, 0.92747953, 0.32862106, 0.66907703, 0.97161796,\n",
       "       0.51642346, 0.15031392, 0.8916688 , 0.48651828, 0.15393971,\n",
       "       0.61931736, 0.81664512, 0.53853655, 0.99899292, 0.00132071,\n",
       "       0.20448706, 0.13547887, 0.27555556, 0.7443591 , 0.72704075])"
      ]
     },
     "execution_count": 28,
     "metadata": {},
     "output_type": "execute_result"
    }
   ],
   "source": [
    "list1"
   ]
  },
  {
   "cell_type": "code",
   "execution_count": 29,
   "id": "b751bc6d",
   "metadata": {},
   "outputs": [
    {
     "data": {
      "text/plain": [
       "<AxesSubplot:>"
      ]
     },
     "execution_count": 29,
     "metadata": {},
     "output_type": "execute_result"
    },
    {
     "data": {
      "image/png": "[encoded data removed]",
      "text/plain": [
       "<Figure size 432x288 with 1 Axes>"
      ]
     },
     "metadata": {
      "needs_background": "light"
     },
     "output_type": "display_data"
    }
   ],
   "source": [
    "sb.boxplot(data=list1)"
   ]
  },
  {
   "cell_type": "code",
   "execution_count": 30,
   "id": "dac3e328",
   "metadata": {},
   "outputs": [
    {
     "data": {
      "text/plain": [
       "<AxesSubplot:>"
      ]
     },
     "execution_count": 30,
     "metadata": {},
     "output_type": "execute_result"
    },
    {
     "data": {
      "image/png": "[encoded data removed]",
      "text/plain": [
       "<Figure size 432x288 with 1 Axes>"
      ]
     },
     "metadata": {
      "needs_background": "light"
     },
     "output_type": "display_data"
    }
   ],
   "source": [
    "sb.lineplot(data=list1)"
   ]
  },
  {
   "cell_type": "code",
   "execution_count": 31,
   "id": "40915dcd",
   "metadata": {},
   "outputs": [
    {
     "data": {
      "text/plain": [
       "array([100.47154444, 100.65066565, 101.67429588,  98.14006794,\n",
       "        99.17119081, 101.07481201, 100.65086318, 102.57921686,\n",
       "       101.66043989, 100.92719428])"
      ]
     },
     "execution_count": 31,
     "metadata": {},
     "output_type": "execute_result"
    }
   ],
   "source": [
    "np.random.normal(100,2,10)"
   ]
  },
  {
   "cell_type": "code",
   "execution_count": 70,
   "id": "36ad1aeb",
   "metadata": {},
   "outputs": [
    {
     "data": {
      "text/plain": [
       "array([ 88.29, 118.21,  71.13, 112.34, 107.86, 101.17, 124.61, 124.61,\n",
       "        87.63,  93.67])"
      ]
     },
     "execution_count": 70,
     "metadata": {},
     "output_type": "execute_result"
    }
   ],
   "source": [
    "np.round(np.random.normal(100,20,10),2)"
   ]
  },
  {
   "cell_type": "code",
   "execution_count": 71,
   "id": "f562a056",
   "metadata": {},
   "outputs": [],
   "source": [
    "nd = np.round(np.random.normal(100,40,20),2)"
   ]
  },
  {
   "cell_type": "code",
   "execution_count": 72,
   "id": "e6cfdecf",
   "metadata": {},
   "outputs": [
    {
     "data": {
      "text/plain": [
       "<AxesSubplot:>"
      ]
     },
     "execution_count": 72,
     "metadata": {},
     "output_type": "execute_result"
    },
    {
     "data": {
      "image/png": "[encoded data removed]",
      "text/plain": [
       "<Figure size 432x288 with 1 Axes>"
      ]
     },
     "metadata": {
      "needs_background": "light"
     },
     "output_type": "display_data"
    }
   ],
   "source": [
    "sb.boxplot(x=nd)"
   ]
  },
  {
   "cell_type": "code",
   "execution_count": 73,
   "id": "b1cfe2cc",
   "metadata": {},
   "outputs": [
    {
     "data": {
      "text/plain": [
       "<seaborn.axisgrid.FacetGrid at 0x7f80b48b15b0>"
      ]
     },
     "execution_count": 73,
     "metadata": {},
     "output_type": "execute_result"
    },
    {
     "data": {
      "image/png": "[encoded data removed]",
      "text/plain": [
       "<Figure size 360x360 with 1 Axes>"
      ]
     },
     "metadata": {
      "needs_background": "light"
     },
     "output_type": "display_data"
    }
   ],
   "source": [
    "sb.displot(data=nd)"
   ]
  },
  {
   "cell_type": "code",
   "execution_count": null,
   "id": "76f546bc",
   "metadata": {},
   "outputs": [],
   "source": []
  }
 ],
 "metadata": {
  "kernelspec": {
   "display_name": "Python 3 (ipykernel)",
   "language": "python",
   "name": "python3"
  },
  "language_info": {
   "codemirror_mode": {
    "name": "ipython",
    "version": 3
   },
   "file_extension": ".py",
   "mimetype": "text/x-python",
   "name": "python",
   "nbconvert_exporter": "python",
   "pygments_lexer": "ipython3",
   "version": "3.9.12"
  }
 },
 "nbformat": 4,
 "nbformat_minor": 5
}
