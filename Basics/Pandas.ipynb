{
 "cells": [
  {
   "cell_type": "code",
   "execution_count": 1,
   "id": "a3839008",
   "metadata": {},
   "outputs": [],
   "source": [
    "import pandas as pd"
   ]
  },
  {
   "cell_type": "markdown",
   "id": "ea82764f",
   "metadata": {},
   "source": [
    "## Series"
   ]
  },
  {
   "cell_type": "code",
   "execution_count": 2,
   "id": "cc4c1361",
   "metadata": {},
   "outputs": [],
   "source": [
    "list = [1,2,3,4,5]"
   ]
  },
  {
   "cell_type": "code",
   "execution_count": 3,
   "id": "6e6cb458",
   "metadata": {},
   "outputs": [
    {
     "data": {
      "text/plain": [
       "0    1\n",
       "1    2\n",
       "2    3\n",
       "3    4\n",
       "4    5\n",
       "dtype: int64"
      ]
     },
     "execution_count": 3,
     "metadata": {},
     "output_type": "execute_result"
    }
   ],
   "source": [
    "pd.Series(data=list)"
   ]
  },
  {
   "cell_type": "code",
   "execution_count": 4,
   "id": "0a203c2a",
   "metadata": {},
   "outputs": [],
   "source": [
    "list1 = [1.0, 2.0, 3.0, 4.0, 5.0]"
   ]
  },
  {
   "cell_type": "code",
   "execution_count": 6,
   "id": "be20ffcf",
   "metadata": {},
   "outputs": [
    {
     "data": {
      "text/plain": [
       "0    1.0\n",
       "1    2.0\n",
       "2    3.0\n",
       "dtype: float64"
      ]
     },
     "execution_count": 6,
     "metadata": {},
     "output_type": "execute_result"
    }
   ],
   "source": [
    "pd.Series(data=list1)"
   ]
  },
  {
   "cell_type": "code",
   "execution_count": 7,
   "id": "596ec9b5",
   "metadata": {},
   "outputs": [],
   "source": [
    "import numpy as np"
   ]
  },
  {
   "cell_type": "code",
   "execution_count": 11,
   "id": "178f8480",
   "metadata": {},
   "outputs": [],
   "source": [
    "arr = np.array([1,2,3])"
   ]
  },
  {
   "cell_type": "code",
   "execution_count": 12,
   "id": "69362562",
   "metadata": {},
   "outputs": [
    {
     "data": {
      "text/plain": [
       "array([1, 2, 3])"
      ]
     },
     "execution_count": 12,
     "metadata": {},
     "output_type": "execute_result"
    }
   ],
   "source": [
    "arr"
   ]
  },
  {
   "cell_type": "code",
   "execution_count": 13,
   "id": "4a9e28b2",
   "metadata": {},
   "outputs": [
    {
     "data": {
      "text/plain": [
       "0    1\n",
       "1    2\n",
       "2    3\n",
       "dtype: int64"
      ]
     },
     "execution_count": 13,
     "metadata": {},
     "output_type": "execute_result"
    }
   ],
   "source": [
    "pd.Series(data=arr)"
   ]
  },
  {
   "cell_type": "code",
   "execution_count": 14,
   "id": "394e69c7",
   "metadata": {},
   "outputs": [],
   "source": [
    "list2 = ['hi', 'how', 'are']"
   ]
  },
  {
   "cell_type": "code",
   "execution_count": 15,
   "id": "1d9067cd",
   "metadata": {},
   "outputs": [
    {
     "data": {
      "text/plain": [
       "0     hi\n",
       "1    how\n",
       "2    are\n",
       "dtype: object"
      ]
     },
     "execution_count": 15,
     "metadata": {},
     "output_type": "execute_result"
    }
   ],
   "source": [
    "pd.Series(data=list2)"
   ]
  },
  {
   "cell_type": "code",
   "execution_count": 17,
   "id": "054cdd84",
   "metadata": {},
   "outputs": [
    {
     "data": {
      "text/plain": [
       "hi     1.0\n",
       "how    2.0\n",
       "are    3.0\n",
       "dtype: float64"
      ]
     },
     "execution_count": 17,
     "metadata": {},
     "output_type": "execute_result"
    }
   ],
   "source": [
    "pd.Series(data=list1, index=list2)"
   ]
  },
  {
   "cell_type": "code",
   "execution_count": 19,
   "id": "f9e18dc3",
   "metadata": {},
   "outputs": [],
   "source": [
    "list3 = [1.0, 2.0, 3.0, 4.0, 5.0]"
   ]
  },
  {
   "cell_type": "code",
   "execution_count": 20,
   "id": "d625a18c",
   "metadata": {},
   "outputs": [
    {
     "data": {
      "text/plain": [
       "1.0    1\n",
       "2.0    2\n",
       "3.0    3\n",
       "4.0    4\n",
       "5.0    5\n",
       "dtype: int64"
      ]
     },
     "execution_count": 20,
     "metadata": {},
     "output_type": "execute_result"
    }
   ],
   "source": [
    "pd.Series(data=list, index=list3)"
   ]
  },
  {
   "cell_type": "code",
   "execution_count": 21,
   "id": "bd2777fc",
   "metadata": {},
   "outputs": [
    {
     "data": {
      "text/plain": [
       "1.0    1\n",
       "2.0    2\n",
       "3.0    3\n",
       "4.0    4\n",
       "5.0    5\n",
       "dtype: int64"
      ]
     },
     "execution_count": 21,
     "metadata": {},
     "output_type": "execute_result"
    }
   ],
   "source": [
    "pd.Series(list,list3)"
   ]
  },
  {
   "cell_type": "code",
   "execution_count": 22,
   "id": "cd4700cf",
   "metadata": {},
   "outputs": [
    {
     "data": {
      "text/plain": [
       "0    1.0\n",
       "1    2.0\n",
       "2    3.0\n",
       "3    4.0\n",
       "4    5.0\n",
       "dtype: float64"
      ]
     },
     "execution_count": 22,
     "metadata": {},
     "output_type": "execute_result"
    }
   ],
   "source": [
    "pd.Series(list3)"
   ]
  },
  {
   "cell_type": "code",
   "execution_count": 23,
   "id": "f25d9b48",
   "metadata": {},
   "outputs": [],
   "source": [
    "d = {'one': 1, 'two': 2, \"three\": 3, \"four\": 4}"
   ]
  },
  {
   "cell_type": "code",
   "execution_count": 24,
   "id": "9d04c67a",
   "metadata": {},
   "outputs": [
    {
     "data": {
      "text/plain": [
       "{'one': 1, 'two': 2, 'three': 3, 'four': 4}"
      ]
     },
     "execution_count": 24,
     "metadata": {},
     "output_type": "execute_result"
    }
   ],
   "source": [
    "d"
   ]
  },
  {
   "cell_type": "code",
   "execution_count": 25,
   "id": "1c64bd8c",
   "metadata": {},
   "outputs": [
    {
     "data": {
      "text/plain": [
       "one      1\n",
       "two      2\n",
       "three    3\n",
       "four     4\n",
       "dtype: int64"
      ]
     },
     "execution_count": 25,
     "metadata": {},
     "output_type": "execute_result"
    }
   ],
   "source": [
    "pd.Series(d)"
   ]
  },
  {
   "cell_type": "code",
   "execution_count": 26,
   "id": "4acdcf30",
   "metadata": {},
   "outputs": [
    {
     "data": {
      "text/plain": [
       "[1.0, 2.0, 3.0]"
      ]
     },
     "execution_count": 26,
     "metadata": {},
     "output_type": "execute_result"
    }
   ],
   "source": [
    "list1"
   ]
  },
  {
   "cell_type": "code",
   "execution_count": 27,
   "id": "1922161d",
   "metadata": {},
   "outputs": [
    {
     "data": {
      "text/plain": [
       "a    1.0\n",
       "b    2.0\n",
       "c    3.0\n",
       "dtype: float64"
      ]
     },
     "execution_count": 27,
     "metadata": {},
     "output_type": "execute_result"
    }
   ],
   "source": [
    "pd.Series(list1,index = ['a','b','c'])"
   ]
  },
  {
   "cell_type": "code",
   "execution_count": 28,
   "id": "20715682",
   "metadata": {},
   "outputs": [],
   "source": [
    "list = ['a','b','c']"
   ]
  },
  {
   "cell_type": "code",
   "execution_count": 29,
   "id": "c11986aa",
   "metadata": {},
   "outputs": [],
   "source": [
    "list = 'a b c'.split()"
   ]
  },
  {
   "cell_type": "code",
   "execution_count": 30,
   "id": "d4db9c8d",
   "metadata": {},
   "outputs": [
    {
     "data": {
      "text/plain": [
       "['a', 'b', 'c']"
      ]
     },
     "execution_count": 30,
     "metadata": {},
     "output_type": "execute_result"
    }
   ],
   "source": [
    "list"
   ]
  },
  {
   "cell_type": "code",
   "execution_count": 31,
   "id": "d7a23b39",
   "metadata": {},
   "outputs": [],
   "source": [
    "list = 'a /b /c'.split('/')"
   ]
  },
  {
   "cell_type": "code",
   "execution_count": 32,
   "id": "a6b6fab3",
   "metadata": {},
   "outputs": [
    {
     "data": {
      "text/plain": [
       "['a ', 'b ', 'c']"
      ]
     },
     "execution_count": 32,
     "metadata": {},
     "output_type": "execute_result"
    }
   ],
   "source": [
    "list"
   ]
  },
  {
   "cell_type": "code",
   "execution_count": 33,
   "id": "f0666a47",
   "metadata": {},
   "outputs": [],
   "source": [
    "list = 'a 1/b 2/c 3'.split('/')"
   ]
  },
  {
   "cell_type": "code",
   "execution_count": 34,
   "id": "83a0ba21",
   "metadata": {},
   "outputs": [
    {
     "data": {
      "text/plain": [
       "['a 1', 'b 2', 'c 3']"
      ]
     },
     "execution_count": 34,
     "metadata": {},
     "output_type": "execute_result"
    }
   ],
   "source": [
    "list"
   ]
  },
  {
   "cell_type": "code",
   "execution_count": 36,
   "id": "862f7de7",
   "metadata": {},
   "outputs": [],
   "source": [
    "ser1 = pd.Series(data=[1,2,3,4], index=['football','cricket','hockey','basketball'])"
   ]
  },
  {
   "cell_type": "code",
   "execution_count": 37,
   "id": "85dee2c6",
   "metadata": {},
   "outputs": [
    {
     "data": {
      "text/plain": [
       "football      1\n",
       "cricket       2\n",
       "hockey        3\n",
       "basketball    4\n",
       "dtype: int64"
      ]
     },
     "execution_count": 37,
     "metadata": {},
     "output_type": "execute_result"
    }
   ],
   "source": [
    "ser1"
   ]
  },
  {
   "cell_type": "code",
   "execution_count": 38,
   "id": "4837022b",
   "metadata": {},
   "outputs": [],
   "source": [
    "ser2 = pd.Series(data=[1,1,1,1], index=['football','cricket','baseball','basketball'])"
   ]
  },
  {
   "cell_type": "code",
   "execution_count": 39,
   "id": "85b66621",
   "metadata": {},
   "outputs": [
    {
     "data": {
      "text/plain": [
       "football      1\n",
       "cricket       1\n",
       "baseball      1\n",
       "basketball    1\n",
       "dtype: int64"
      ]
     },
     "execution_count": 39,
     "metadata": {},
     "output_type": "execute_result"
    }
   ],
   "source": [
    "ser2"
   ]
  },
  {
   "cell_type": "code",
   "execution_count": 40,
   "id": "1ec37407",
   "metadata": {},
   "outputs": [
    {
     "data": {
      "text/plain": [
       "baseball      NaN\n",
       "basketball    5.0\n",
       "cricket       3.0\n",
       "football      2.0\n",
       "hockey        NaN\n",
       "dtype: float64"
      ]
     },
     "execution_count": 40,
     "metadata": {},
     "output_type": "execute_result"
    }
   ],
   "source": [
    "ser1 + ser2"
   ]
  },
  {
   "cell_type": "markdown",
   "id": "3781f564",
   "metadata": {},
   "source": [
    "## Data Frames"
   ]
  },
  {
   "cell_type": "code",
   "execution_count": 41,
   "id": "67c3c3c4",
   "metadata": {},
   "outputs": [],
   "source": [
    "from numpy.random import randn"
   ]
  },
  {
   "cell_type": "code",
   "execution_count": 42,
   "id": "71c26f1a",
   "metadata": {},
   "outputs": [
    {
     "data": {
      "text/plain": [
       "array([[1.15349665]])"
      ]
     },
     "execution_count": 42,
     "metadata": {},
     "output_type": "execute_result"
    }
   ],
   "source": [
    "randn(1,1)"
   ]
  },
  {
   "cell_type": "code",
   "execution_count": 43,
   "id": "828fcfa1",
   "metadata": {},
   "outputs": [
    {
     "data": {
      "text/plain": [
       "array([[-1.08501589, -0.82242158,  0.3654426 , -0.35166261],\n",
       "       [ 0.36513703,  0.27139436,  0.50049273, -0.63721587],\n",
       "       [ 1.68735753,  0.97501501,  0.06489149, -0.03242335],\n",
       "       [ 2.11524505,  0.29278596,  0.87013934,  0.03352875],\n",
       "       [ 1.38416268,  0.01932728, -0.15667337, -0.22323096]])"
      ]
     },
     "execution_count": 43,
     "metadata": {},
     "output_type": "execute_result"
    }
   ],
   "source": [
    "randn(4,4)"
   ]
  },
  {
   "cell_type": "code",
   "execution_count": 121,
   "id": "820f98c2",
   "metadata": {},
   "outputs": [],
   "source": [
    "df = pd.DataFrame(randn(5,4), index=['a','b','c', 'd', 'e'], columns='S T U V'.split())"
   ]
  },
  {
   "cell_type": "code",
   "execution_count": 60,
   "id": "973b8741",
   "metadata": {},
   "outputs": [
    {
     "data": {
      "text/html": [
       "<div>\n",
       "<style scoped>\n",
       "    .dataframe tbody tr th:only-of-type {\n",
       "        vertical-align: middle;\n",
       "    }\n",
       "\n",
       "    .dataframe tbody tr th {\n",
       "        vertical-align: top;\n",
       "    }\n",
       "\n",
       "    .dataframe thead th {\n",
       "        text-align: right;\n",
       "    }\n",
       "</style>\n",
       "<table border=\"1\" class=\"dataframe\">\n",
       "  <thead>\n",
       "    <tr style=\"text-align: right;\">\n",
       "      <th></th>\n",
       "      <th>S</th>\n",
       "      <th>T</th>\n",
       "      <th>U</th>\n",
       "      <th>V</th>\n",
       "    </tr>\n",
       "  </thead>\n",
       "  <tbody>\n",
       "    <tr>\n",
       "      <th>a</th>\n",
       "      <td>-0.928653</td>\n",
       "      <td>0.185737</td>\n",
       "      <td>-0.915208</td>\n",
       "      <td>-1.529930</td>\n",
       "    </tr>\n",
       "    <tr>\n",
       "      <th>b</th>\n",
       "      <td>0.160719</td>\n",
       "      <td>0.701901</td>\n",
       "      <td>-1.178312</td>\n",
       "      <td>-1.777081</td>\n",
       "    </tr>\n",
       "    <tr>\n",
       "      <th>c</th>\n",
       "      <td>0.332804</td>\n",
       "      <td>-1.338149</td>\n",
       "      <td>-0.508958</td>\n",
       "      <td>1.357197</td>\n",
       "    </tr>\n",
       "    <tr>\n",
       "      <th>d</th>\n",
       "      <td>-0.255154</td>\n",
       "      <td>0.948677</td>\n",
       "      <td>0.713564</td>\n",
       "      <td>0.146680</td>\n",
       "    </tr>\n",
       "    <tr>\n",
       "      <th>e</th>\n",
       "      <td>0.101504</td>\n",
       "      <td>-0.773761</td>\n",
       "      <td>1.200522</td>\n",
       "      <td>-1.192379</td>\n",
       "    </tr>\n",
       "  </tbody>\n",
       "</table>\n",
       "</div>"
      ],
      "text/plain": [
       "          S         T         U         V\n",
       "a -0.928653  0.185737 -0.915208 -1.529930\n",
       "b  0.160719  0.701901 -1.178312 -1.777081\n",
       "c  0.332804 -1.338149 -0.508958  1.357197\n",
       "d -0.255154  0.948677  0.713564  0.146680\n",
       "e  0.101504 -0.773761  1.200522 -1.192379"
      ]
     },
     "execution_count": 60,
     "metadata": {},
     "output_type": "execute_result"
    }
   ],
   "source": [
    "df"
   ]
  },
  {
   "cell_type": "code",
   "execution_count": 47,
   "id": "79d75849",
   "metadata": {},
   "outputs": [
    {
     "data": {
      "text/plain": [
       "a    0.011508\n",
       "b   -0.362569\n",
       "c   -2.111459\n",
       "d    2.177542\n",
       "e    1.707808\n",
       "Name: S, dtype: float64"
      ]
     },
     "execution_count": 47,
     "metadata": {},
     "output_type": "execute_result"
    }
   ],
   "source": [
    "df['S']"
   ]
  },
  {
   "cell_type": "code",
   "execution_count": 48,
   "id": "b2afea34",
   "metadata": {},
   "outputs": [
    {
     "data": {
      "text/html": [
       "<div>\n",
       "<style scoped>\n",
       "    .dataframe tbody tr th:only-of-type {\n",
       "        vertical-align: middle;\n",
       "    }\n",
       "\n",
       "    .dataframe tbody tr th {\n",
       "        vertical-align: top;\n",
       "    }\n",
       "\n",
       "    .dataframe thead th {\n",
       "        text-align: right;\n",
       "    }\n",
       "</style>\n",
       "<table border=\"1\" class=\"dataframe\">\n",
       "  <thead>\n",
       "    <tr style=\"text-align: right;\">\n",
       "      <th></th>\n",
       "      <th>S</th>\n",
       "      <th>U</th>\n",
       "    </tr>\n",
       "  </thead>\n",
       "  <tbody>\n",
       "    <tr>\n",
       "      <th>a</th>\n",
       "      <td>0.011508</td>\n",
       "      <td>-0.782949</td>\n",
       "    </tr>\n",
       "    <tr>\n",
       "      <th>b</th>\n",
       "      <td>-0.362569</td>\n",
       "      <td>0.064876</td>\n",
       "    </tr>\n",
       "    <tr>\n",
       "      <th>c</th>\n",
       "      <td>-2.111459</td>\n",
       "      <td>1.137392</td>\n",
       "    </tr>\n",
       "    <tr>\n",
       "      <th>d</th>\n",
       "      <td>2.177542</td>\n",
       "      <td>0.242788</td>\n",
       "    </tr>\n",
       "    <tr>\n",
       "      <th>e</th>\n",
       "      <td>1.707808</td>\n",
       "      <td>1.417513</td>\n",
       "    </tr>\n",
       "  </tbody>\n",
       "</table>\n",
       "</div>"
      ],
      "text/plain": [
       "          S         U\n",
       "a  0.011508 -0.782949\n",
       "b -0.362569  0.064876\n",
       "c -2.111459  1.137392\n",
       "d  2.177542  0.242788\n",
       "e  1.707808  1.417513"
      ]
     },
     "execution_count": 48,
     "metadata": {},
     "output_type": "execute_result"
    }
   ],
   "source": [
    "df[['S','U']]"
   ]
  },
  {
   "cell_type": "code",
   "execution_count": 61,
   "id": "dc30ffcb",
   "metadata": {},
   "outputs": [
    {
     "data": {
      "text/html": [
       "<div>\n",
       "<style scoped>\n",
       "    .dataframe tbody tr th:only-of-type {\n",
       "        vertical-align: middle;\n",
       "    }\n",
       "\n",
       "    .dataframe tbody tr th {\n",
       "        vertical-align: top;\n",
       "    }\n",
       "\n",
       "    .dataframe thead th {\n",
       "        text-align: right;\n",
       "    }\n",
       "</style>\n",
       "<table border=\"1\" class=\"dataframe\">\n",
       "  <thead>\n",
       "    <tr style=\"text-align: right;\">\n",
       "      <th></th>\n",
       "      <th>S</th>\n",
       "      <th>T</th>\n",
       "      <th>U</th>\n",
       "      <th>V</th>\n",
       "    </tr>\n",
       "  </thead>\n",
       "  <tbody>\n",
       "    <tr>\n",
       "      <th>a</th>\n",
       "      <td>False</td>\n",
       "      <td>True</td>\n",
       "      <td>False</td>\n",
       "      <td>False</td>\n",
       "    </tr>\n",
       "    <tr>\n",
       "      <th>b</th>\n",
       "      <td>True</td>\n",
       "      <td>True</td>\n",
       "      <td>False</td>\n",
       "      <td>False</td>\n",
       "    </tr>\n",
       "    <tr>\n",
       "      <th>c</th>\n",
       "      <td>True</td>\n",
       "      <td>False</td>\n",
       "      <td>False</td>\n",
       "      <td>True</td>\n",
       "    </tr>\n",
       "    <tr>\n",
       "      <th>d</th>\n",
       "      <td>False</td>\n",
       "      <td>True</td>\n",
       "      <td>True</td>\n",
       "      <td>True</td>\n",
       "    </tr>\n",
       "    <tr>\n",
       "      <th>e</th>\n",
       "      <td>True</td>\n",
       "      <td>False</td>\n",
       "      <td>True</td>\n",
       "      <td>False</td>\n",
       "    </tr>\n",
       "  </tbody>\n",
       "</table>\n",
       "</div>"
      ],
      "text/plain": [
       "       S      T      U      V\n",
       "a  False   True  False  False\n",
       "b   True   True  False  False\n",
       "c   True  False  False   True\n",
       "d  False   True   True   True\n",
       "e   True  False   True  False"
      ]
     },
     "execution_count": 61,
     "metadata": {},
     "output_type": "execute_result"
    }
   ],
   "source": [
    "df > 0"
   ]
  },
  {
   "cell_type": "code",
   "execution_count": 63,
   "id": "3ca0ab0d",
   "metadata": {},
   "outputs": [
    {
     "data": {
      "text/html": [
       "<div>\n",
       "<style scoped>\n",
       "    .dataframe tbody tr th:only-of-type {\n",
       "        vertical-align: middle;\n",
       "    }\n",
       "\n",
       "    .dataframe tbody tr th {\n",
       "        vertical-align: top;\n",
       "    }\n",
       "\n",
       "    .dataframe thead th {\n",
       "        text-align: right;\n",
       "    }\n",
       "</style>\n",
       "<table border=\"1\" class=\"dataframe\">\n",
       "  <thead>\n",
       "    <tr style=\"text-align: right;\">\n",
       "      <th></th>\n",
       "      <th>S</th>\n",
       "      <th>T</th>\n",
       "      <th>U</th>\n",
       "      <th>V</th>\n",
       "    </tr>\n",
       "  </thead>\n",
       "  <tbody>\n",
       "    <tr>\n",
       "      <th>a</th>\n",
       "      <td>-0.928653</td>\n",
       "      <td>0.185737</td>\n",
       "      <td>-0.915208</td>\n",
       "      <td>-1.529930</td>\n",
       "    </tr>\n",
       "    <tr>\n",
       "      <th>b</th>\n",
       "      <td>0.160719</td>\n",
       "      <td>0.701901</td>\n",
       "      <td>-1.178312</td>\n",
       "      <td>-1.777081</td>\n",
       "    </tr>\n",
       "    <tr>\n",
       "      <th>c</th>\n",
       "      <td>0.332804</td>\n",
       "      <td>-1.338149</td>\n",
       "      <td>-0.508958</td>\n",
       "      <td>1.357197</td>\n",
       "    </tr>\n",
       "    <tr>\n",
       "      <th>d</th>\n",
       "      <td>-0.255154</td>\n",
       "      <td>0.948677</td>\n",
       "      <td>0.713564</td>\n",
       "      <td>0.146680</td>\n",
       "    </tr>\n",
       "    <tr>\n",
       "      <th>e</th>\n",
       "      <td>0.101504</td>\n",
       "      <td>-0.773761</td>\n",
       "      <td>1.200522</td>\n",
       "      <td>-1.192379</td>\n",
       "    </tr>\n",
       "  </tbody>\n",
       "</table>\n",
       "</div>"
      ],
      "text/plain": [
       "          S         T         U         V\n",
       "a -0.928653  0.185737 -0.915208 -1.529930\n",
       "b  0.160719  0.701901 -1.178312 -1.777081\n",
       "c  0.332804 -1.338149 -0.508958  1.357197\n",
       "d -0.255154  0.948677  0.713564  0.146680\n",
       "e  0.101504 -0.773761  1.200522 -1.192379"
      ]
     },
     "execution_count": 63,
     "metadata": {},
     "output_type": "execute_result"
    }
   ],
   "source": [
    "df"
   ]
  },
  {
   "cell_type": "code",
   "execution_count": 62,
   "id": "da358eb4",
   "metadata": {},
   "outputs": [
    {
     "data": {
      "text/html": [
       "<div>\n",
       "<style scoped>\n",
       "    .dataframe tbody tr th:only-of-type {\n",
       "        vertical-align: middle;\n",
       "    }\n",
       "\n",
       "    .dataframe tbody tr th {\n",
       "        vertical-align: top;\n",
       "    }\n",
       "\n",
       "    .dataframe thead th {\n",
       "        text-align: right;\n",
       "    }\n",
       "</style>\n",
       "<table border=\"1\" class=\"dataframe\">\n",
       "  <thead>\n",
       "    <tr style=\"text-align: right;\">\n",
       "      <th></th>\n",
       "      <th>S</th>\n",
       "      <th>T</th>\n",
       "      <th>U</th>\n",
       "      <th>V</th>\n",
       "    </tr>\n",
       "  </thead>\n",
       "  <tbody>\n",
       "    <tr>\n",
       "      <th>a</th>\n",
       "      <td>NaN</td>\n",
       "      <td>0.185737</td>\n",
       "      <td>NaN</td>\n",
       "      <td>NaN</td>\n",
       "    </tr>\n",
       "    <tr>\n",
       "      <th>b</th>\n",
       "      <td>0.160719</td>\n",
       "      <td>0.701901</td>\n",
       "      <td>NaN</td>\n",
       "      <td>NaN</td>\n",
       "    </tr>\n",
       "    <tr>\n",
       "      <th>c</th>\n",
       "      <td>0.332804</td>\n",
       "      <td>NaN</td>\n",
       "      <td>NaN</td>\n",
       "      <td>1.357197</td>\n",
       "    </tr>\n",
       "    <tr>\n",
       "      <th>d</th>\n",
       "      <td>NaN</td>\n",
       "      <td>0.948677</td>\n",
       "      <td>0.713564</td>\n",
       "      <td>0.146680</td>\n",
       "    </tr>\n",
       "    <tr>\n",
       "      <th>e</th>\n",
       "      <td>0.101504</td>\n",
       "      <td>NaN</td>\n",
       "      <td>1.200522</td>\n",
       "      <td>NaN</td>\n",
       "    </tr>\n",
       "  </tbody>\n",
       "</table>\n",
       "</div>"
      ],
      "text/plain": [
       "          S         T         U         V\n",
       "a       NaN  0.185737       NaN       NaN\n",
       "b  0.160719  0.701901       NaN       NaN\n",
       "c  0.332804       NaN       NaN  1.357197\n",
       "d       NaN  0.948677  0.713564  0.146680\n",
       "e  0.101504       NaN  1.200522       NaN"
      ]
     },
     "execution_count": 62,
     "metadata": {},
     "output_type": "execute_result"
    }
   ],
   "source": [
    "df[df>0]"
   ]
  },
  {
   "cell_type": "code",
   "execution_count": 64,
   "id": "41992842",
   "metadata": {},
   "outputs": [
    {
     "data": {
      "text/plain": [
       "a   -0.928653\n",
       "b    0.160719\n",
       "c    0.332804\n",
       "d   -0.255154\n",
       "e    0.101504\n",
       "Name: S, dtype: float64"
      ]
     },
     "execution_count": 64,
     "metadata": {},
     "output_type": "execute_result"
    }
   ],
   "source": [
    "df.S"
   ]
  },
  {
   "cell_type": "code",
   "execution_count": 68,
   "id": "2b701d8b",
   "metadata": {},
   "outputs": [],
   "source": [
    "df['new'] = df.S + df.U"
   ]
  },
  {
   "cell_type": "code",
   "execution_count": 69,
   "id": "11dfdb5e",
   "metadata": {},
   "outputs": [
    {
     "data": {
      "text/html": [
       "<div>\n",
       "<style scoped>\n",
       "    .dataframe tbody tr th:only-of-type {\n",
       "        vertical-align: middle;\n",
       "    }\n",
       "\n",
       "    .dataframe tbody tr th {\n",
       "        vertical-align: top;\n",
       "    }\n",
       "\n",
       "    .dataframe thead th {\n",
       "        text-align: right;\n",
       "    }\n",
       "</style>\n",
       "<table border=\"1\" class=\"dataframe\">\n",
       "  <thead>\n",
       "    <tr style=\"text-align: right;\">\n",
       "      <th></th>\n",
       "      <th>S</th>\n",
       "      <th>T</th>\n",
       "      <th>U</th>\n",
       "      <th>V</th>\n",
       "      <th>new</th>\n",
       "    </tr>\n",
       "  </thead>\n",
       "  <tbody>\n",
       "    <tr>\n",
       "      <th>a</th>\n",
       "      <td>-0.928653</td>\n",
       "      <td>0.185737</td>\n",
       "      <td>-0.915208</td>\n",
       "      <td>-1.529930</td>\n",
       "      <td>-1.843861</td>\n",
       "    </tr>\n",
       "    <tr>\n",
       "      <th>b</th>\n",
       "      <td>0.160719</td>\n",
       "      <td>0.701901</td>\n",
       "      <td>-1.178312</td>\n",
       "      <td>-1.777081</td>\n",
       "      <td>-1.017594</td>\n",
       "    </tr>\n",
       "    <tr>\n",
       "      <th>c</th>\n",
       "      <td>0.332804</td>\n",
       "      <td>-1.338149</td>\n",
       "      <td>-0.508958</td>\n",
       "      <td>1.357197</td>\n",
       "      <td>-0.176154</td>\n",
       "    </tr>\n",
       "    <tr>\n",
       "      <th>d</th>\n",
       "      <td>-0.255154</td>\n",
       "      <td>0.948677</td>\n",
       "      <td>0.713564</td>\n",
       "      <td>0.146680</td>\n",
       "      <td>0.458410</td>\n",
       "    </tr>\n",
       "    <tr>\n",
       "      <th>e</th>\n",
       "      <td>0.101504</td>\n",
       "      <td>-0.773761</td>\n",
       "      <td>1.200522</td>\n",
       "      <td>-1.192379</td>\n",
       "      <td>1.302026</td>\n",
       "    </tr>\n",
       "  </tbody>\n",
       "</table>\n",
       "</div>"
      ],
      "text/plain": [
       "          S         T         U         V       new\n",
       "a -0.928653  0.185737 -0.915208 -1.529930 -1.843861\n",
       "b  0.160719  0.701901 -1.178312 -1.777081 -1.017594\n",
       "c  0.332804 -1.338149 -0.508958  1.357197 -0.176154\n",
       "d -0.255154  0.948677  0.713564  0.146680  0.458410\n",
       "e  0.101504 -0.773761  1.200522 -1.192379  1.302026"
      ]
     },
     "execution_count": 69,
     "metadata": {},
     "output_type": "execute_result"
    }
   ],
   "source": [
    "df"
   ]
  },
  {
   "cell_type": "code",
   "execution_count": 67,
   "id": "4a27ecd8",
   "metadata": {},
   "outputs": [
    {
     "data": {
      "text/plain": [
       "a   -1.843861\n",
       "b   -1.017594\n",
       "c   -0.176154\n",
       "d    0.458410\n",
       "e    1.302026\n",
       "Name: new, dtype: float64"
      ]
     },
     "execution_count": 67,
     "metadata": {},
     "output_type": "execute_result"
    }
   ],
   "source": [
    "df['new']"
   ]
  },
  {
   "cell_type": "code",
   "execution_count": 78,
   "id": "e1199454",
   "metadata": {},
   "outputs": [
    {
     "data": {
      "text/plain": [
       "a   -0.915208\n",
       "b   -1.178312\n",
       "c   -0.508958\n",
       "d    0.713564\n",
       "e    1.200522\n",
       "Name: U, dtype: float64"
      ]
     },
     "execution_count": 78,
     "metadata": {},
     "output_type": "execute_result"
    }
   ],
   "source": [
    "df.U"
   ]
  },
  {
   "cell_type": "code",
   "execution_count": 71,
   "id": "00f1f920",
   "metadata": {},
   "outputs": [
    {
     "data": {
      "text/plain": [
       "S     -0.928653\n",
       "T      0.185737\n",
       "U     -0.915208\n",
       "V     -1.529930\n",
       "new   -1.843861\n",
       "Name: a, dtype: float64"
      ]
     },
     "execution_count": 71,
     "metadata": {},
     "output_type": "execute_result"
    }
   ],
   "source": [
    "df.loc['a']"
   ]
  },
  {
   "cell_type": "code",
   "execution_count": 79,
   "id": "7607d4b0",
   "metadata": {},
   "outputs": [
    {
     "data": {
      "text/plain": [
       "-1.1783123678298428"
      ]
     },
     "execution_count": 79,
     "metadata": {},
     "output_type": "execute_result"
    }
   ],
   "source": [
    "df.loc['b']['U']"
   ]
  },
  {
   "cell_type": "code",
   "execution_count": 89,
   "id": "5b8aa158",
   "metadata": {},
   "outputs": [
    {
     "data": {
      "text/html": [
       "<div>\n",
       "<style scoped>\n",
       "    .dataframe tbody tr th:only-of-type {\n",
       "        vertical-align: middle;\n",
       "    }\n",
       "\n",
       "    .dataframe tbody tr th {\n",
       "        vertical-align: top;\n",
       "    }\n",
       "\n",
       "    .dataframe thead th {\n",
       "        text-align: right;\n",
       "    }\n",
       "</style>\n",
       "<table border=\"1\" class=\"dataframe\">\n",
       "  <thead>\n",
       "    <tr style=\"text-align: right;\">\n",
       "      <th></th>\n",
       "      <th>S</th>\n",
       "      <th>T</th>\n",
       "      <th>U</th>\n",
       "      <th>V</th>\n",
       "      <th>new</th>\n",
       "    </tr>\n",
       "  </thead>\n",
       "  <tbody>\n",
       "    <tr>\n",
       "      <th>a</th>\n",
       "      <td>False</td>\n",
       "      <td>True</td>\n",
       "      <td>False</td>\n",
       "      <td>False</td>\n",
       "      <td>False</td>\n",
       "    </tr>\n",
       "    <tr>\n",
       "      <th>b</th>\n",
       "      <td>True</td>\n",
       "      <td>True</td>\n",
       "      <td>False</td>\n",
       "      <td>False</td>\n",
       "      <td>False</td>\n",
       "    </tr>\n",
       "    <tr>\n",
       "      <th>c</th>\n",
       "      <td>True</td>\n",
       "      <td>False</td>\n",
       "      <td>False</td>\n",
       "      <td>True</td>\n",
       "      <td>False</td>\n",
       "    </tr>\n",
       "    <tr>\n",
       "      <th>d</th>\n",
       "      <td>False</td>\n",
       "      <td>True</td>\n",
       "      <td>True</td>\n",
       "      <td>True</td>\n",
       "      <td>True</td>\n",
       "    </tr>\n",
       "    <tr>\n",
       "      <th>e</th>\n",
       "      <td>True</td>\n",
       "      <td>False</td>\n",
       "      <td>True</td>\n",
       "      <td>False</td>\n",
       "      <td>True</td>\n",
       "    </tr>\n",
       "  </tbody>\n",
       "</table>\n",
       "</div>"
      ],
      "text/plain": [
       "       S      T      U      V    new\n",
       "a  False   True  False  False  False\n",
       "b   True   True  False  False  False\n",
       "c   True  False  False   True  False\n",
       "d  False   True   True   True   True\n",
       "e   True  False   True  False   True"
      ]
     },
     "execution_count": 89,
     "metadata": {},
     "output_type": "execute_result"
    }
   ],
   "source": [
    "df >0"
   ]
  },
  {
   "cell_type": "code",
   "execution_count": 81,
   "id": "a8f93441",
   "metadata": {},
   "outputs": [
    {
     "data": {
      "text/html": [
       "<div>\n",
       "<style scoped>\n",
       "    .dataframe tbody tr th:only-of-type {\n",
       "        vertical-align: middle;\n",
       "    }\n",
       "\n",
       "    .dataframe tbody tr th {\n",
       "        vertical-align: top;\n",
       "    }\n",
       "\n",
       "    .dataframe thead th {\n",
       "        text-align: right;\n",
       "    }\n",
       "</style>\n",
       "<table border=\"1\" class=\"dataframe\">\n",
       "  <thead>\n",
       "    <tr style=\"text-align: right;\">\n",
       "      <th></th>\n",
       "      <th>S</th>\n",
       "      <th>T</th>\n",
       "      <th>U</th>\n",
       "      <th>V</th>\n",
       "      <th>new</th>\n",
       "    </tr>\n",
       "  </thead>\n",
       "  <tbody>\n",
       "    <tr>\n",
       "      <th>a</th>\n",
       "      <td>NaN</td>\n",
       "      <td>0.185737</td>\n",
       "      <td>NaN</td>\n",
       "      <td>NaN</td>\n",
       "      <td>NaN</td>\n",
       "    </tr>\n",
       "    <tr>\n",
       "      <th>b</th>\n",
       "      <td>0.160719</td>\n",
       "      <td>0.701901</td>\n",
       "      <td>NaN</td>\n",
       "      <td>NaN</td>\n",
       "      <td>NaN</td>\n",
       "    </tr>\n",
       "    <tr>\n",
       "      <th>c</th>\n",
       "      <td>0.332804</td>\n",
       "      <td>NaN</td>\n",
       "      <td>NaN</td>\n",
       "      <td>1.357197</td>\n",
       "      <td>NaN</td>\n",
       "    </tr>\n",
       "    <tr>\n",
       "      <th>d</th>\n",
       "      <td>NaN</td>\n",
       "      <td>0.948677</td>\n",
       "      <td>0.713564</td>\n",
       "      <td>0.146680</td>\n",
       "      <td>0.458410</td>\n",
       "    </tr>\n",
       "    <tr>\n",
       "      <th>e</th>\n",
       "      <td>0.101504</td>\n",
       "      <td>NaN</td>\n",
       "      <td>1.200522</td>\n",
       "      <td>NaN</td>\n",
       "      <td>1.302026</td>\n",
       "    </tr>\n",
       "  </tbody>\n",
       "</table>\n",
       "</div>"
      ],
      "text/plain": [
       "          S         T         U         V       new\n",
       "a       NaN  0.185737       NaN       NaN       NaN\n",
       "b  0.160719  0.701901       NaN       NaN       NaN\n",
       "c  0.332804       NaN       NaN  1.357197       NaN\n",
       "d       NaN  0.948677  0.713564  0.146680  0.458410\n",
       "e  0.101504       NaN  1.200522       NaN  1.302026"
      ]
     },
     "execution_count": 81,
     "metadata": {},
     "output_type": "execute_result"
    }
   ],
   "source": [
    "df[df>0]"
   ]
  },
  {
   "cell_type": "code",
   "execution_count": 86,
   "id": "6afcc0c6",
   "metadata": {},
   "outputs": [
    {
     "data": {
      "text/plain": [
       "a    0.185737\n",
       "b    0.701901\n",
       "d    0.948677\n",
       "Name: T, dtype: float64"
      ]
     },
     "execution_count": 86,
     "metadata": {},
     "output_type": "execute_result"
    }
   ],
   "source": [
    "df[df['T']>0]['T']"
   ]
  },
  {
   "cell_type": "code",
   "execution_count": 90,
   "id": "35877624",
   "metadata": {},
   "outputs": [
    {
     "data": {
      "text/html": [
       "<div>\n",
       "<style scoped>\n",
       "    .dataframe tbody tr th:only-of-type {\n",
       "        vertical-align: middle;\n",
       "    }\n",
       "\n",
       "    .dataframe tbody tr th {\n",
       "        vertical-align: top;\n",
       "    }\n",
       "\n",
       "    .dataframe thead th {\n",
       "        text-align: right;\n",
       "    }\n",
       "</style>\n",
       "<table border=\"1\" class=\"dataframe\">\n",
       "  <thead>\n",
       "    <tr style=\"text-align: right;\">\n",
       "      <th></th>\n",
       "      <th>S</th>\n",
       "      <th>T</th>\n",
       "      <th>U</th>\n",
       "      <th>V</th>\n",
       "      <th>new</th>\n",
       "    </tr>\n",
       "  </thead>\n",
       "  <tbody>\n",
       "    <tr>\n",
       "      <th>a</th>\n",
       "      <td>-0.928653</td>\n",
       "      <td>0.185737</td>\n",
       "      <td>-0.915208</td>\n",
       "      <td>-1.529930</td>\n",
       "      <td>-1.843861</td>\n",
       "    </tr>\n",
       "    <tr>\n",
       "      <th>b</th>\n",
       "      <td>0.160719</td>\n",
       "      <td>0.701901</td>\n",
       "      <td>-1.178312</td>\n",
       "      <td>-1.777081</td>\n",
       "      <td>-1.017594</td>\n",
       "    </tr>\n",
       "    <tr>\n",
       "      <th>c</th>\n",
       "      <td>0.332804</td>\n",
       "      <td>-1.338149</td>\n",
       "      <td>-0.508958</td>\n",
       "      <td>1.357197</td>\n",
       "      <td>-0.176154</td>\n",
       "    </tr>\n",
       "    <tr>\n",
       "      <th>d</th>\n",
       "      <td>-0.255154</td>\n",
       "      <td>0.948677</td>\n",
       "      <td>0.713564</td>\n",
       "      <td>0.146680</td>\n",
       "      <td>0.458410</td>\n",
       "    </tr>\n",
       "    <tr>\n",
       "      <th>e</th>\n",
       "      <td>0.101504</td>\n",
       "      <td>-0.773761</td>\n",
       "      <td>1.200522</td>\n",
       "      <td>-1.192379</td>\n",
       "      <td>1.302026</td>\n",
       "    </tr>\n",
       "  </tbody>\n",
       "</table>\n",
       "</div>"
      ],
      "text/plain": [
       "          S         T         U         V       new\n",
       "a -0.928653  0.185737 -0.915208 -1.529930 -1.843861\n",
       "b  0.160719  0.701901 -1.178312 -1.777081 -1.017594\n",
       "c  0.332804 -1.338149 -0.508958  1.357197 -0.176154\n",
       "d -0.255154  0.948677  0.713564  0.146680  0.458410\n",
       "e  0.101504 -0.773761  1.200522 -1.192379  1.302026"
      ]
     },
     "execution_count": 90,
     "metadata": {},
     "output_type": "execute_result"
    }
   ],
   "source": [
    "df"
   ]
  },
  {
   "cell_type": "code",
   "execution_count": 92,
   "id": "cf28230f",
   "metadata": {},
   "outputs": [],
   "source": [
    "df['mean'] = df.S + df['T'] + df.U + df.V"
   ]
  },
  {
   "cell_type": "code",
   "execution_count": 93,
   "id": "e12a4b33",
   "metadata": {},
   "outputs": [
    {
     "data": {
      "text/html": [
       "<div>\n",
       "<style scoped>\n",
       "    .dataframe tbody tr th:only-of-type {\n",
       "        vertical-align: middle;\n",
       "    }\n",
       "\n",
       "    .dataframe tbody tr th {\n",
       "        vertical-align: top;\n",
       "    }\n",
       "\n",
       "    .dataframe thead th {\n",
       "        text-align: right;\n",
       "    }\n",
       "</style>\n",
       "<table border=\"1\" class=\"dataframe\">\n",
       "  <thead>\n",
       "    <tr style=\"text-align: right;\">\n",
       "      <th></th>\n",
       "      <th>S</th>\n",
       "      <th>T</th>\n",
       "      <th>U</th>\n",
       "      <th>V</th>\n",
       "      <th>new</th>\n",
       "      <th>mean</th>\n",
       "    </tr>\n",
       "  </thead>\n",
       "  <tbody>\n",
       "    <tr>\n",
       "      <th>a</th>\n",
       "      <td>-0.928653</td>\n",
       "      <td>0.185737</td>\n",
       "      <td>-0.915208</td>\n",
       "      <td>-1.529930</td>\n",
       "      <td>-1.843861</td>\n",
       "      <td>-3.188054</td>\n",
       "    </tr>\n",
       "    <tr>\n",
       "      <th>b</th>\n",
       "      <td>0.160719</td>\n",
       "      <td>0.701901</td>\n",
       "      <td>-1.178312</td>\n",
       "      <td>-1.777081</td>\n",
       "      <td>-1.017594</td>\n",
       "      <td>-2.092773</td>\n",
       "    </tr>\n",
       "    <tr>\n",
       "      <th>c</th>\n",
       "      <td>0.332804</td>\n",
       "      <td>-1.338149</td>\n",
       "      <td>-0.508958</td>\n",
       "      <td>1.357197</td>\n",
       "      <td>-0.176154</td>\n",
       "      <td>-0.157106</td>\n",
       "    </tr>\n",
       "    <tr>\n",
       "      <th>d</th>\n",
       "      <td>-0.255154</td>\n",
       "      <td>0.948677</td>\n",
       "      <td>0.713564</td>\n",
       "      <td>0.146680</td>\n",
       "      <td>0.458410</td>\n",
       "      <td>1.553767</td>\n",
       "    </tr>\n",
       "    <tr>\n",
       "      <th>e</th>\n",
       "      <td>0.101504</td>\n",
       "      <td>-0.773761</td>\n",
       "      <td>1.200522</td>\n",
       "      <td>-1.192379</td>\n",
       "      <td>1.302026</td>\n",
       "      <td>-0.664114</td>\n",
       "    </tr>\n",
       "  </tbody>\n",
       "</table>\n",
       "</div>"
      ],
      "text/plain": [
       "          S         T         U         V       new      mean\n",
       "a -0.928653  0.185737 -0.915208 -1.529930 -1.843861 -3.188054\n",
       "b  0.160719  0.701901 -1.178312 -1.777081 -1.017594 -2.092773\n",
       "c  0.332804 -1.338149 -0.508958  1.357197 -0.176154 -0.157106\n",
       "d -0.255154  0.948677  0.713564  0.146680  0.458410  1.553767\n",
       "e  0.101504 -0.773761  1.200522 -1.192379  1.302026 -0.664114"
      ]
     },
     "execution_count": 93,
     "metadata": {},
     "output_type": "execute_result"
    }
   ],
   "source": [
    "df"
   ]
  },
  {
   "cell_type": "code",
   "execution_count": 99,
   "id": "127c9862",
   "metadata": {},
   "outputs": [
    {
     "data": {
      "text/plain": [
       "a    False\n",
       "b    False\n",
       "c    False\n",
       "d     True\n",
       "e    False\n",
       "Name: mean, dtype: bool"
      ]
     },
     "execution_count": 99,
     "metadata": {},
     "output_type": "execute_result"
    }
   ],
   "source": [
    "df['mean']>0"
   ]
  },
  {
   "cell_type": "code",
   "execution_count": 101,
   "id": "b7b043eb",
   "metadata": {},
   "outputs": [
    {
     "data": {
      "text/html": [
       "<div>\n",
       "<style scoped>\n",
       "    .dataframe tbody tr th:only-of-type {\n",
       "        vertical-align: middle;\n",
       "    }\n",
       "\n",
       "    .dataframe tbody tr th {\n",
       "        vertical-align: top;\n",
       "    }\n",
       "\n",
       "    .dataframe thead th {\n",
       "        text-align: right;\n",
       "    }\n",
       "</style>\n",
       "<table border=\"1\" class=\"dataframe\">\n",
       "  <thead>\n",
       "    <tr style=\"text-align: right;\">\n",
       "      <th></th>\n",
       "      <th>S</th>\n",
       "      <th>T</th>\n",
       "      <th>U</th>\n",
       "      <th>V</th>\n",
       "      <th>new</th>\n",
       "      <th>mean</th>\n",
       "    </tr>\n",
       "  </thead>\n",
       "  <tbody>\n",
       "    <tr>\n",
       "      <th>a</th>\n",
       "      <td>-0.928653</td>\n",
       "      <td>0.185737</td>\n",
       "      <td>-0.915208</td>\n",
       "      <td>-1.529930</td>\n",
       "      <td>-1.843861</td>\n",
       "      <td>-3.188054</td>\n",
       "    </tr>\n",
       "    <tr>\n",
       "      <th>b</th>\n",
       "      <td>0.160719</td>\n",
       "      <td>0.701901</td>\n",
       "      <td>-1.178312</td>\n",
       "      <td>-1.777081</td>\n",
       "      <td>-1.017594</td>\n",
       "      <td>-2.092773</td>\n",
       "    </tr>\n",
       "    <tr>\n",
       "      <th>c</th>\n",
       "      <td>0.332804</td>\n",
       "      <td>-1.338149</td>\n",
       "      <td>-0.508958</td>\n",
       "      <td>1.357197</td>\n",
       "      <td>-0.176154</td>\n",
       "      <td>-0.157106</td>\n",
       "    </tr>\n",
       "    <tr>\n",
       "      <th>e</th>\n",
       "      <td>0.101504</td>\n",
       "      <td>-0.773761</td>\n",
       "      <td>1.200522</td>\n",
       "      <td>-1.192379</td>\n",
       "      <td>1.302026</td>\n",
       "      <td>-0.664114</td>\n",
       "    </tr>\n",
       "  </tbody>\n",
       "</table>\n",
       "</div>"
      ],
      "text/plain": [
       "          S         T         U         V       new      mean\n",
       "a -0.928653  0.185737 -0.915208 -1.529930 -1.843861 -3.188054\n",
       "b  0.160719  0.701901 -1.178312 -1.777081 -1.017594 -2.092773\n",
       "c  0.332804 -1.338149 -0.508958  1.357197 -0.176154 -0.157106\n",
       "e  0.101504 -0.773761  1.200522 -1.192379  1.302026 -0.664114"
      ]
     },
     "execution_count": 101,
     "metadata": {},
     "output_type": "execute_result"
    }
   ],
   "source": [
    "df[df['mean']<0]"
   ]
  },
  {
   "cell_type": "code",
   "execution_count": 102,
   "id": "6c7c37a7",
   "metadata": {},
   "outputs": [
    {
     "data": {
      "text/html": [
       "<div>\n",
       "<style scoped>\n",
       "    .dataframe tbody tr th:only-of-type {\n",
       "        vertical-align: middle;\n",
       "    }\n",
       "\n",
       "    .dataframe tbody tr th {\n",
       "        vertical-align: top;\n",
       "    }\n",
       "\n",
       "    .dataframe thead th {\n",
       "        text-align: right;\n",
       "    }\n",
       "</style>\n",
       "<table border=\"1\" class=\"dataframe\">\n",
       "  <thead>\n",
       "    <tr style=\"text-align: right;\">\n",
       "      <th></th>\n",
       "      <th>S</th>\n",
       "      <th>T</th>\n",
       "      <th>U</th>\n",
       "      <th>V</th>\n",
       "      <th>new</th>\n",
       "      <th>mean</th>\n",
       "    </tr>\n",
       "  </thead>\n",
       "  <tbody>\n",
       "    <tr>\n",
       "      <th>a</th>\n",
       "      <td>-0.928653</td>\n",
       "      <td>0.185737</td>\n",
       "      <td>-0.915208</td>\n",
       "      <td>-1.529930</td>\n",
       "      <td>-1.843861</td>\n",
       "      <td>-3.188054</td>\n",
       "    </tr>\n",
       "    <tr>\n",
       "      <th>b</th>\n",
       "      <td>0.160719</td>\n",
       "      <td>0.701901</td>\n",
       "      <td>-1.178312</td>\n",
       "      <td>-1.777081</td>\n",
       "      <td>-1.017594</td>\n",
       "      <td>-2.092773</td>\n",
       "    </tr>\n",
       "    <tr>\n",
       "      <th>c</th>\n",
       "      <td>0.332804</td>\n",
       "      <td>-1.338149</td>\n",
       "      <td>-0.508958</td>\n",
       "      <td>1.357197</td>\n",
       "      <td>-0.176154</td>\n",
       "      <td>-0.157106</td>\n",
       "    </tr>\n",
       "    <tr>\n",
       "      <th>d</th>\n",
       "      <td>-0.255154</td>\n",
       "      <td>0.948677</td>\n",
       "      <td>0.713564</td>\n",
       "      <td>0.146680</td>\n",
       "      <td>0.458410</td>\n",
       "      <td>1.553767</td>\n",
       "    </tr>\n",
       "    <tr>\n",
       "      <th>e</th>\n",
       "      <td>0.101504</td>\n",
       "      <td>-0.773761</td>\n",
       "      <td>1.200522</td>\n",
       "      <td>-1.192379</td>\n",
       "      <td>1.302026</td>\n",
       "      <td>-0.664114</td>\n",
       "    </tr>\n",
       "  </tbody>\n",
       "</table>\n",
       "</div>"
      ],
      "text/plain": [
       "          S         T         U         V       new      mean\n",
       "a -0.928653  0.185737 -0.915208 -1.529930 -1.843861 -3.188054\n",
       "b  0.160719  0.701901 -1.178312 -1.777081 -1.017594 -2.092773\n",
       "c  0.332804 -1.338149 -0.508958  1.357197 -0.176154 -0.157106\n",
       "d -0.255154  0.948677  0.713564  0.146680  0.458410  1.553767\n",
       "e  0.101504 -0.773761  1.200522 -1.192379  1.302026 -0.664114"
      ]
     },
     "execution_count": 102,
     "metadata": {},
     "output_type": "execute_result"
    }
   ],
   "source": [
    "df"
   ]
  },
  {
   "cell_type": "code",
   "execution_count": 122,
   "id": "2593202d",
   "metadata": {},
   "outputs": [],
   "source": [
    "dataf1 = df[df>0]"
   ]
  },
  {
   "cell_type": "code",
   "execution_count": 104,
   "id": "1fa66e24",
   "metadata": {},
   "outputs": [
    {
     "data": {
      "text/html": [
       "<div>\n",
       "<style scoped>\n",
       "    .dataframe tbody tr th:only-of-type {\n",
       "        vertical-align: middle;\n",
       "    }\n",
       "\n",
       "    .dataframe tbody tr th {\n",
       "        vertical-align: top;\n",
       "    }\n",
       "\n",
       "    .dataframe thead th {\n",
       "        text-align: right;\n",
       "    }\n",
       "</style>\n",
       "<table border=\"1\" class=\"dataframe\">\n",
       "  <thead>\n",
       "    <tr style=\"text-align: right;\">\n",
       "      <th></th>\n",
       "      <th>S</th>\n",
       "      <th>T</th>\n",
       "      <th>U</th>\n",
       "      <th>V</th>\n",
       "      <th>new</th>\n",
       "      <th>mean</th>\n",
       "    </tr>\n",
       "  </thead>\n",
       "  <tbody>\n",
       "    <tr>\n",
       "      <th>a</th>\n",
       "      <td>NaN</td>\n",
       "      <td>0.185737</td>\n",
       "      <td>NaN</td>\n",
       "      <td>NaN</td>\n",
       "      <td>NaN</td>\n",
       "      <td>NaN</td>\n",
       "    </tr>\n",
       "    <tr>\n",
       "      <th>b</th>\n",
       "      <td>0.160719</td>\n",
       "      <td>0.701901</td>\n",
       "      <td>NaN</td>\n",
       "      <td>NaN</td>\n",
       "      <td>NaN</td>\n",
       "      <td>NaN</td>\n",
       "    </tr>\n",
       "    <tr>\n",
       "      <th>c</th>\n",
       "      <td>0.332804</td>\n",
       "      <td>NaN</td>\n",
       "      <td>NaN</td>\n",
       "      <td>1.357197</td>\n",
       "      <td>NaN</td>\n",
       "      <td>NaN</td>\n",
       "    </tr>\n",
       "    <tr>\n",
       "      <th>d</th>\n",
       "      <td>NaN</td>\n",
       "      <td>0.948677</td>\n",
       "      <td>0.713564</td>\n",
       "      <td>0.146680</td>\n",
       "      <td>0.458410</td>\n",
       "      <td>1.553767</td>\n",
       "    </tr>\n",
       "    <tr>\n",
       "      <th>e</th>\n",
       "      <td>0.101504</td>\n",
       "      <td>NaN</td>\n",
       "      <td>1.200522</td>\n",
       "      <td>NaN</td>\n",
       "      <td>1.302026</td>\n",
       "      <td>NaN</td>\n",
       "    </tr>\n",
       "  </tbody>\n",
       "</table>\n",
       "</div>"
      ],
      "text/plain": [
       "          S         T         U         V       new      mean\n",
       "a       NaN  0.185737       NaN       NaN       NaN       NaN\n",
       "b  0.160719  0.701901       NaN       NaN       NaN       NaN\n",
       "c  0.332804       NaN       NaN  1.357197       NaN       NaN\n",
       "d       NaN  0.948677  0.713564  0.146680  0.458410  1.553767\n",
       "e  0.101504       NaN  1.200522       NaN  1.302026       NaN"
      ]
     },
     "execution_count": 104,
     "metadata": {},
     "output_type": "execute_result"
    }
   ],
   "source": [
    "dataf1"
   ]
  },
  {
   "cell_type": "code",
   "execution_count": 105,
   "id": "94bf0b02",
   "metadata": {},
   "outputs": [
    {
     "data": {
      "text/html": [
       "<div>\n",
       "<style scoped>\n",
       "    .dataframe tbody tr th:only-of-type {\n",
       "        vertical-align: middle;\n",
       "    }\n",
       "\n",
       "    .dataframe tbody tr th {\n",
       "        vertical-align: top;\n",
       "    }\n",
       "\n",
       "    .dataframe thead th {\n",
       "        text-align: right;\n",
       "    }\n",
       "</style>\n",
       "<table border=\"1\" class=\"dataframe\">\n",
       "  <thead>\n",
       "    <tr style=\"text-align: right;\">\n",
       "      <th></th>\n",
       "      <th>S</th>\n",
       "      <th>T</th>\n",
       "      <th>U</th>\n",
       "      <th>V</th>\n",
       "      <th>new</th>\n",
       "      <th>mean</th>\n",
       "    </tr>\n",
       "  </thead>\n",
       "  <tbody>\n",
       "    <tr>\n",
       "      <th>a</th>\n",
       "      <td>Not available</td>\n",
       "      <td>0.185737</td>\n",
       "      <td>Not available</td>\n",
       "      <td>Not available</td>\n",
       "      <td>Not available</td>\n",
       "      <td>Not available</td>\n",
       "    </tr>\n",
       "    <tr>\n",
       "      <th>b</th>\n",
       "      <td>0.160719</td>\n",
       "      <td>0.701901</td>\n",
       "      <td>Not available</td>\n",
       "      <td>Not available</td>\n",
       "      <td>Not available</td>\n",
       "      <td>Not available</td>\n",
       "    </tr>\n",
       "    <tr>\n",
       "      <th>c</th>\n",
       "      <td>0.332804</td>\n",
       "      <td>Not available</td>\n",
       "      <td>Not available</td>\n",
       "      <td>1.357197</td>\n",
       "      <td>Not available</td>\n",
       "      <td>Not available</td>\n",
       "    </tr>\n",
       "    <tr>\n",
       "      <th>d</th>\n",
       "      <td>Not available</td>\n",
       "      <td>0.948677</td>\n",
       "      <td>0.713564</td>\n",
       "      <td>0.14668</td>\n",
       "      <td>0.45841</td>\n",
       "      <td>1.553767</td>\n",
       "    </tr>\n",
       "    <tr>\n",
       "      <th>e</th>\n",
       "      <td>0.101504</td>\n",
       "      <td>Not available</td>\n",
       "      <td>1.200522</td>\n",
       "      <td>Not available</td>\n",
       "      <td>1.302026</td>\n",
       "      <td>Not available</td>\n",
       "    </tr>\n",
       "  </tbody>\n",
       "</table>\n",
       "</div>"
      ],
      "text/plain": [
       "               S              T              U              V            new  \\\n",
       "a  Not available       0.185737  Not available  Not available  Not available   \n",
       "b       0.160719       0.701901  Not available  Not available  Not available   \n",
       "c       0.332804  Not available  Not available       1.357197  Not available   \n",
       "d  Not available       0.948677       0.713564        0.14668        0.45841   \n",
       "e       0.101504  Not available       1.200522  Not available       1.302026   \n",
       "\n",
       "            mean  \n",
       "a  Not available  \n",
       "b  Not available  \n",
       "c  Not available  \n",
       "d       1.553767  \n",
       "e  Not available  "
      ]
     },
     "execution_count": 105,
     "metadata": {},
     "output_type": "execute_result"
    }
   ],
   "source": [
    "dataf1.fillna(value = \"Not available\")"
   ]
  },
  {
   "cell_type": "code",
   "execution_count": 107,
   "id": "67907e02",
   "metadata": {},
   "outputs": [],
   "source": [
    "dataf1.loc['d']['S']=0.1"
   ]
  },
  {
   "cell_type": "code",
   "execution_count": 108,
   "id": "825e8d77",
   "metadata": {},
   "outputs": [
    {
     "data": {
      "text/html": [
       "<div>\n",
       "<style scoped>\n",
       "    .dataframe tbody tr th:only-of-type {\n",
       "        vertical-align: middle;\n",
       "    }\n",
       "\n",
       "    .dataframe tbody tr th {\n",
       "        vertical-align: top;\n",
       "    }\n",
       "\n",
       "    .dataframe thead th {\n",
       "        text-align: right;\n",
       "    }\n",
       "</style>\n",
       "<table border=\"1\" class=\"dataframe\">\n",
       "  <thead>\n",
       "    <tr style=\"text-align: right;\">\n",
       "      <th></th>\n",
       "      <th>S</th>\n",
       "      <th>T</th>\n",
       "      <th>U</th>\n",
       "      <th>V</th>\n",
       "      <th>new</th>\n",
       "      <th>mean</th>\n",
       "    </tr>\n",
       "  </thead>\n",
       "  <tbody>\n",
       "    <tr>\n",
       "      <th>a</th>\n",
       "      <td>NaN</td>\n",
       "      <td>0.185737</td>\n",
       "      <td>NaN</td>\n",
       "      <td>NaN</td>\n",
       "      <td>NaN</td>\n",
       "      <td>NaN</td>\n",
       "    </tr>\n",
       "    <tr>\n",
       "      <th>b</th>\n",
       "      <td>0.160719</td>\n",
       "      <td>0.701901</td>\n",
       "      <td>NaN</td>\n",
       "      <td>NaN</td>\n",
       "      <td>NaN</td>\n",
       "      <td>NaN</td>\n",
       "    </tr>\n",
       "    <tr>\n",
       "      <th>c</th>\n",
       "      <td>0.332804</td>\n",
       "      <td>NaN</td>\n",
       "      <td>NaN</td>\n",
       "      <td>1.357197</td>\n",
       "      <td>NaN</td>\n",
       "      <td>NaN</td>\n",
       "    </tr>\n",
       "    <tr>\n",
       "      <th>d</th>\n",
       "      <td>0.100000</td>\n",
       "      <td>0.948677</td>\n",
       "      <td>0.713564</td>\n",
       "      <td>0.146680</td>\n",
       "      <td>0.458410</td>\n",
       "      <td>1.553767</td>\n",
       "    </tr>\n",
       "    <tr>\n",
       "      <th>e</th>\n",
       "      <td>0.101504</td>\n",
       "      <td>NaN</td>\n",
       "      <td>1.200522</td>\n",
       "      <td>NaN</td>\n",
       "      <td>1.302026</td>\n",
       "      <td>NaN</td>\n",
       "    </tr>\n",
       "  </tbody>\n",
       "</table>\n",
       "</div>"
      ],
      "text/plain": [
       "          S         T         U         V       new      mean\n",
       "a       NaN  0.185737       NaN       NaN       NaN       NaN\n",
       "b  0.160719  0.701901       NaN       NaN       NaN       NaN\n",
       "c  0.332804       NaN       NaN  1.357197       NaN       NaN\n",
       "d  0.100000  0.948677  0.713564  0.146680  0.458410  1.553767\n",
       "e  0.101504       NaN  1.200522       NaN  1.302026       NaN"
      ]
     },
     "execution_count": 108,
     "metadata": {},
     "output_type": "execute_result"
    }
   ],
   "source": [
    "dataf1"
   ]
  },
  {
   "cell_type": "code",
   "execution_count": 118,
   "id": "bfe60574",
   "metadata": {
    "scrolled": true
   },
   "outputs": [],
   "source": [
    "dataf1.dropna(inplace=True)"
   ]
  },
  {
   "cell_type": "code",
   "execution_count": 120,
   "id": "35b08c2e",
   "metadata": {},
   "outputs": [
    {
     "data": {
      "text/html": [
       "<div>\n",
       "<style scoped>\n",
       "    .dataframe tbody tr th:only-of-type {\n",
       "        vertical-align: middle;\n",
       "    }\n",
       "\n",
       "    .dataframe tbody tr th {\n",
       "        vertical-align: top;\n",
       "    }\n",
       "\n",
       "    .dataframe thead th {\n",
       "        text-align: right;\n",
       "    }\n",
       "</style>\n",
       "<table border=\"1\" class=\"dataframe\">\n",
       "  <thead>\n",
       "    <tr style=\"text-align: right;\">\n",
       "      <th></th>\n",
       "      <th>S</th>\n",
       "      <th>T</th>\n",
       "      <th>U</th>\n",
       "      <th>V</th>\n",
       "      <th>new</th>\n",
       "      <th>mean</th>\n",
       "    </tr>\n",
       "  </thead>\n",
       "  <tbody>\n",
       "    <tr>\n",
       "      <th>d</th>\n",
       "      <td>0.1</td>\n",
       "      <td>0.948677</td>\n",
       "      <td>0.713564</td>\n",
       "      <td>0.14668</td>\n",
       "      <td>0.45841</td>\n",
       "      <td>1.553767</td>\n",
       "    </tr>\n",
       "  </tbody>\n",
       "</table>\n",
       "</div>"
      ],
      "text/plain": [
       "     S         T         U        V      new      mean\n",
       "d  0.1  0.948677  0.713564  0.14668  0.45841  1.553767"
      ]
     },
     "execution_count": 120,
     "metadata": {},
     "output_type": "execute_result"
    }
   ],
   "source": [
    "dataf1"
   ]
  },
  {
   "cell_type": "code",
   "execution_count": null,
   "id": "e8bf8944",
   "metadata": {},
   "outputs": [],
   "source": []
  }
 ],
 "metadata": {
  "kernelspec": {
   "display_name": "Python 3 (ipykernel)",
   "language": "python",
   "name": "python3"
  },
  "language_info": {
   "codemirror_mode": {
    "name": "ipython",
    "version": 3
   },
   "file_extension": ".py",
   "mimetype": "text/x-python",
   "name": "python",
   "nbconvert_exporter": "python",
   "pygments_lexer": "ipython3",
   "version": "3.9.12"
  }
 },
 "nbformat": 4,
 "nbformat_minor": 5
}
